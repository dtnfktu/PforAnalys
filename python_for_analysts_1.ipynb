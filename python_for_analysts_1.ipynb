{
 "cells": [
  {
   "cell_type": "markdown",
   "id": "475cbadc",
   "metadata": {},
   "source": [
    "# Урок 1. Оформление ноутбука и закрепление функций и генераторов"
   ]
  },
  {
   "cell_type": "markdown",
   "id": "e44512b5",
   "metadata": {},
   "source": [
    "## Задача 1.  \n",
    "***На складе лежат разные фрукты в разном количестве. Нужно написать функцию, которая на вход принимает любое количество названий фруктов и их количество, а возвращает общее количество фруктов на складе***"
   ]
  },
  {
   "cell_type": "markdown",
   "id": "2c53b770",
   "metadata": {},
   "source": [
    "**Решение**"
   ]
  },
  {
   "cell_type": "markdown",
   "id": "2d012670",
   "metadata": {},
   "source": [
    "*Задаём список кортежей. Первое поле - название фрукта, второе - количество на складе*"
   ]
  },
  {
   "cell_type": "code",
   "execution_count": 9,
   "id": "5bb275e4",
   "metadata": {},
   "outputs": [
    {
     "name": "stdout",
     "output_type": "stream",
     "text": [
      "[('Apple', 15), ('Banana', 12), ('Pear', 17), ('Plum', 28), ('Orange', 32)]\n"
     ]
    }
   ],
   "source": [
    "fruits = [('Apple',15),('Banana',12),('Pear',17),('Plum',28),('Orange',32)]\n",
    "print(fruits)"
   ]
  },
  {
   "cell_type": "markdown",
   "id": "a34e14f5",
   "metadata": {},
   "source": [
    "*Теперь описываем функцию, принимающую на вход список кортежей, и возвращающую их общее количество на складе*"
   ]
  },
  {
   "cell_type": "code",
   "execution_count": 10,
   "id": "5c7c02bc",
   "metadata": {},
   "outputs": [],
   "source": [
    "def count_fruits(fruits_list:list):\n",
    "    count = 0\n",
    "    for i in range(len(fruits_list)):\n",
    "        count += fruits_list[i][1]\n",
    "    return count"
   ]
  },
  {
   "cell_type": "markdown",
   "id": "ee354e5e",
   "metadata": {},
   "source": [
    "*И находим сумму из списка*"
   ]
  },
  {
   "cell_type": "code",
   "execution_count": 11,
   "id": "91bf7727",
   "metadata": {},
   "outputs": [
    {
     "name": "stdout",
     "output_type": "stream",
     "text": [
      "104\n"
     ]
    }
   ],
   "source": [
    "print(count_fruits(fruits))"
   ]
  },
  {
   "cell_type": "markdown",
   "id": "3fbe4f23",
   "metadata": {},
   "source": [
    "*Проверяем: 15 + 12 + 17 + 28 + 32 = 104. Функция считает верно*"
   ]
  },
  {
   "cell_type": "markdown",
   "id": "f289da57",
   "metadata": {},
   "source": [
    "## Задача 2.  \n",
    "***Дан список с затратами на рекламу. Но в данных есть ошибки, некоторые затраты имеют отрицательную величину. Удалите такие значения из списка и посчитайте суммарные затраты.  \n",
    "[100, 125, -90, 345, 655, -1, 0, 200]  \n",
    "Используйте list comprehensions***"
   ]
  },
  {
   "cell_type": "markdown",
   "id": "fc88247a",
   "metadata": {},
   "source": [
    "**Решение**"
   ]
  },
  {
   "cell_type": "markdown",
   "id": "b44b02ce",
   "metadata": {},
   "source": [
    "*Задаём исходный список затрат:*"
   ]
  },
  {
   "cell_type": "code",
   "execution_count": 18,
   "id": "dc93c994",
   "metadata": {},
   "outputs": [],
   "source": [
    "expenses = [100, 125, -90, 345, 655, -1, 0, 200]"
   ]
  },
  {
   "cell_type": "markdown",
   "id": "74a58dc3",
   "metadata": {},
   "source": [
    "*Удалаяем отрицательные элементы, используя list comprehensions:*"
   ]
  },
  {
   "cell_type": "code",
   "execution_count": 19,
   "id": "2fe82272",
   "metadata": {},
   "outputs": [],
   "source": [
    "expenses = [item for item in expenses if item >= 0]"
   ]
  },
  {
   "cell_type": "markdown",
   "id": "dc4beb1e",
   "metadata": {},
   "source": [
    "*Проверяем полученный список. Он не должен содержать отрицательные элементы:*"
   ]
  },
  {
   "cell_type": "code",
   "execution_count": 17,
   "id": "a63fe4e2",
   "metadata": {},
   "outputs": [
    {
     "name": "stdout",
     "output_type": "stream",
     "text": [
      "[100, 125, 345, 655, 0, 200]\n"
     ]
    }
   ],
   "source": [
    "print(expenses)"
   ]
  },
  {
   "cell_type": "markdown",
   "id": "65f3942f",
   "metadata": {},
   "source": [
    "*И находим сумму затрат*"
   ]
  },
  {
   "cell_type": "code",
   "execution_count": 20,
   "id": "849999a8",
   "metadata": {},
   "outputs": [
    {
     "name": "stdout",
     "output_type": "stream",
     "text": [
      "1425\n"
     ]
    }
   ],
   "source": [
    "print(sum(expenses))"
   ]
  },
  {
   "cell_type": "markdown",
   "id": "6a1f155a",
   "metadata": {},
   "source": [
    "*Ответ: 1425*"
   ]
  },
  {
   "cell_type": "markdown",
   "id": "7089c82c",
   "metadata": {},
   "source": [
    "*Можно реализовать более сжато:*"
   ]
  },
  {
   "cell_type": "code",
   "execution_count": 21,
   "id": "c4d32574",
   "metadata": {},
   "outputs": [
    {
     "name": "stdout",
     "output_type": "stream",
     "text": [
      "1425\n"
     ]
    }
   ],
   "source": [
    "expenses = [100, 125, -90, 345, 655, -1, 0, 200]\n",
    "print(sum([item for item in expenses if item >= 0]))"
   ]
  },
  {
   "cell_type": "markdown",
   "id": "06c45adf",
   "metadata": {},
   "source": [
    "*Или даже так:*"
   ]
  },
  {
   "cell_type": "code",
   "execution_count": 22,
   "id": "02848b20",
   "metadata": {},
   "outputs": [
    {
     "name": "stdout",
     "output_type": "stream",
     "text": [
      "1425\n"
     ]
    }
   ],
   "source": [
    "print(sum([item for item in [100, 125, -90, 345, 655, -1, 0, 200] if item >= 0]))"
   ]
  },
  {
   "cell_type": "markdown",
   "id": "584bbe0b",
   "metadata": {},
   "source": [
    "*Как видим, ответ во всех случаях одинаков*"
   ]
  },
  {
   "cell_type": "markdown",
   "id": "69b6eb9f",
   "metadata": {},
   "source": [
    "## Задача 3"
   ]
  },
  {
   "cell_type": "markdown",
   "id": "10528e9d",
   "metadata": {},
   "source": [
    "***Даны два списка.  \n",
    "Дата покупки  \n",
    "['2021-09-14', '2021-12-15', '2021-09-08', '2021-12-05', '2021-10-09', '2021-09-30', '2021-12-22', '2021-11-29', '2021-12-24', '2021-11-26', '2021-10-27', '2021-12-18', '2021-11-09', '2021-11-23', '2021-09-27', '2021-10-02', '2021-12-27', '2021-09-20', '2021-12-13', '2021-11-01', '2021-11-09', '2021-12-06', '2021-12-08', '2021-10-09', '2021-10-31', '2021-09-30', '2021-11-09', '2021-12-13', '2021-10-26', '2021-12-09']  \n",
    "Суммы покупок по датам  \n",
    "[1270, 8413, 9028, 3703, 5739, 4095, 295, 4944, 5723, 3701, 4471, 651, 7037, 4274, 6275, 4988, 6930, 2971, 6592, 2004, 2822, 519, 3406, 2732, 5015, 2008, 316, 6333, 5700, 2887]***"
   ]
  },
  {
   "cell_type": "markdown",
   "id": "64a55daf",
   "metadata": {},
   "source": [
    "***1. Найдите, какая выручка у компании в ноябре. Используйте list comprehensions***"
   ]
  },
  {
   "cell_type": "markdown",
   "id": "8806c016",
   "metadata": {},
   "source": [
    "**Решение**"
   ]
  },
  {
   "cell_type": "markdown",
   "id": "28b29731",
   "metadata": {},
   "source": [
    "*Задаём два списка:*"
   ]
  },
  {
   "cell_type": "code",
   "execution_count": 40,
   "id": "0e3977c3",
   "metadata": {},
   "outputs": [],
   "source": [
    "dates = ['2021-09-14', '2021-12-15', '2021-09-08', '2021-12-05', '2021-10-09', '2021-09-30', '2021-12-22', '2021-11-29', '2021-12-24', '2021-11-26', '2021-10-27', '2021-12-18', '2021-11-09', '2021-11-23', '2021-09-27', '2021-10-02', '2021-12-27', '2021-09-20', '2021-12-13', '2021-11-01', '2021-11-09', '2021-12-06', '2021-12-08', '2021-10-09', '2021-10-31', '2021-09-30', '2021-11-09', '2021-12-13', '2021-10-26', '2021-12-09']\n",
    "sums = [1270, 8413, 9028, 3703, 5739, 4095, 295, 4944, 5723, 3701, 4471, 651, 7037, 4274, 6275, 4988, 6930, 2971, 6592, 2004, 2822, 519, 3406, 2732, 5015, 2008, 316, 6333, 5700, 2887]"
   ]
  },
  {
   "cell_type": "markdown",
   "id": "7f9d44c0",
   "metadata": {},
   "source": [
    "*Проверяем длины списков, они должны совпадать*"
   ]
  },
  {
   "cell_type": "code",
   "execution_count": 29,
   "id": "f108c08b",
   "metadata": {},
   "outputs": [
    {
     "name": "stdout",
     "output_type": "stream",
     "text": [
      "Даты  :  30\n",
      "Суммы :  30\n"
     ]
    }
   ],
   "source": [
    "print('Даты  : ',len(dates))\n",
    "print('Суммы : ',len(sums))"
   ]
  },
  {
   "cell_type": "markdown",
   "id": "ba5ef849",
   "metadata": {},
   "source": [
    "*Здесь необходимо преобразовать список **dates** из строкового типа в тип дата/время*"
   ]
  },
  {
   "cell_type": "markdown",
   "id": "ead28296",
   "metadata": {},
   "source": [
    "*Для начала подключим соответствующий модуль:*"
   ]
  },
  {
   "cell_type": "code",
   "execution_count": 31,
   "id": "2877cf55",
   "metadata": {},
   "outputs": [],
   "source": [
    "from datetime import datetime"
   ]
  },
  {
   "cell_type": "markdown",
   "id": "f3cdae5e",
   "metadata": {},
   "source": [
    "*Теперь преобразуем строки в числа:*"
   ]
  },
  {
   "cell_type": "code",
   "execution_count": 41,
   "id": "7494353f",
   "metadata": {},
   "outputs": [],
   "source": [
    "dates = [datetime.strptime(data, \"%Y-%m-%d\").date() for data in dates]"
   ]
  },
  {
   "cell_type": "markdown",
   "id": "f13d7286",
   "metadata": {},
   "source": [
    "*Проверяем что получилось:*"
   ]
  },
  {
   "cell_type": "code",
   "execution_count": 42,
   "id": "42fdd347",
   "metadata": {},
   "outputs": [
    {
     "name": "stdout",
     "output_type": "stream",
     "text": [
      "[datetime.date(2021, 9, 14), datetime.date(2021, 12, 15), datetime.date(2021, 9, 8), datetime.date(2021, 12, 5), datetime.date(2021, 10, 9), datetime.date(2021, 9, 30), datetime.date(2021, 12, 22), datetime.date(2021, 11, 29), datetime.date(2021, 12, 24), datetime.date(2021, 11, 26), datetime.date(2021, 10, 27), datetime.date(2021, 12, 18), datetime.date(2021, 11, 9), datetime.date(2021, 11, 23), datetime.date(2021, 9, 27), datetime.date(2021, 10, 2), datetime.date(2021, 12, 27), datetime.date(2021, 9, 20), datetime.date(2021, 12, 13), datetime.date(2021, 11, 1), datetime.date(2021, 11, 9), datetime.date(2021, 12, 6), datetime.date(2021, 12, 8), datetime.date(2021, 10, 9), datetime.date(2021, 10, 31), datetime.date(2021, 9, 30), datetime.date(2021, 11, 9), datetime.date(2021, 12, 13), datetime.date(2021, 10, 26), datetime.date(2021, 12, 9)]\n"
     ]
    }
   ],
   "source": [
    "print(dates)"
   ]
  },
  {
   "cell_type": "markdown",
   "id": "42639d9e",
   "metadata": {},
   "source": [
    "*Теперь обрабатываем по заданному условию - находим выручку компании в ноябре:*"
   ]
  },
  {
   "cell_type": "code",
   "execution_count": 43,
   "id": "672bb0b2",
   "metadata": {},
   "outputs": [
    {
     "name": "stdout",
     "output_type": "stream",
     "text": [
      "25098\n"
     ]
    }
   ],
   "source": [
    "summa = 0\n",
    "for item in range(len(dates)):\n",
    "    if dates[item].month == 11 :\n",
    "        summa += sums[item]\n",
    "print(summa)"
   ]
  },
  {
   "cell_type": "markdown",
   "id": "c73d6ad5",
   "metadata": {},
   "source": [
    "*Ответ: 25098*"
   ]
  },
  {
   "cell_type": "markdown",
   "id": "a9162d31",
   "metadata": {},
   "source": [
    "***2. Найдите выручку компании в зависимости от месяца\n",
    "Для этого напишите функцию, которая на вход принимает список с датами и список с выручкой, а на выходе словарь, где ключи - это месяцы, а значения - это выручка.\n",
    "Используйте аннотирование типов.***"
   ]
  },
  {
   "cell_type": "markdown",
   "id": "de6087fc",
   "metadata": {},
   "source": [
    "*Создаём функцию:*"
   ]
  },
  {
   "cell_type": "code",
   "execution_count": 46,
   "id": "01579031",
   "metadata": {},
   "outputs": [],
   "source": [
    "def get_sums(dat:list,sm:list)->list:\n",
    "    ans : dict = {}\n",
    "    for item in range(len(dat)):\n",
    "        if dat[item].month in ans:\n",
    "            ans[dat[item].month] = ans[dat[item].month] + sm[item]\n",
    "        else:\n",
    "            ans.update({dat[item].month : sm[item]})\n",
    "    return ans"
   ]
  },
  {
   "cell_type": "markdown",
   "id": "ac68675a",
   "metadata": {},
   "source": [
    "*Получаем результат:*"
   ]
  },
  {
   "cell_type": "code",
   "execution_count": 53,
   "id": "d15dec91",
   "metadata": {},
   "outputs": [],
   "source": [
    "dct = get_sums(dates,sums)"
   ]
  },
  {
   "cell_type": "markdown",
   "id": "da884252",
   "metadata": {},
   "source": [
    "*И смотрим что получилось:*"
   ]
  },
  {
   "cell_type": "code",
   "execution_count": 54,
   "id": "5aa7f741",
   "metadata": {},
   "outputs": [
    {
     "name": "stdout",
     "output_type": "stream",
     "text": [
      "9 25647\n",
      "12 45452\n",
      "10 28645\n",
      "11 25098\n"
     ]
    }
   ],
   "source": [
    "for key in dct:\n",
    "    print(key, dct[key])"
   ]
  },
  {
   "cell_type": "markdown",
   "id": "24dc809f",
   "metadata": {},
   "source": [
    "*Всё здорово, но... Месяцы идут в разнобой, по мере их добавления в словарь. Поэтому словарь следует отсортировать по ключу:*"
   ]
  },
  {
   "cell_type": "code",
   "execution_count": 55,
   "id": "a37e5f39",
   "metadata": {},
   "outputs": [],
   "source": [
    "dct = dict(sorted(dct.items()))"
   ]
  },
  {
   "cell_type": "code",
   "execution_count": 59,
   "id": "0a087ae9",
   "metadata": {},
   "outputs": [
    {
     "name": "stdout",
     "output_type": "stream",
     "text": [
      "9 25647\n",
      "10 28645\n",
      "11 25098\n",
      "12 45452\n"
     ]
    }
   ],
   "source": [
    "for key in dct:\n",
    "    print(key, dct[key])"
   ]
  },
  {
   "cell_type": "markdown",
   "id": "1af76e58",
   "metadata": {},
   "source": [
    "*Здесь мы видим, что выручка за ноябрь та же, что и ответ в предыдущем задании*"
   ]
  },
  {
   "cell_type": "code",
   "execution_count": null,
   "id": "3081a3ea",
   "metadata": {},
   "outputs": [],
   "source": []
  }
 ],
 "metadata": {
  "kernelspec": {
   "display_name": "Python 3 (ipykernel)",
   "language": "python",
   "name": "python3"
  },
  "language_info": {
   "codemirror_mode": {
    "name": "ipython",
    "version": 3
   },
   "file_extension": ".py",
   "mimetype": "text/x-python",
   "name": "python",
   "nbconvert_exporter": "python",
   "pygments_lexer": "ipython3",
   "version": "3.9.12"
  }
 },
 "nbformat": 4,
 "nbformat_minor": 5
}
