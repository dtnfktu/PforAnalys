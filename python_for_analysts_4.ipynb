{
 "cells": [
  {
   "cell_type": "markdown",
   "id": "9c3c3ff8",
   "metadata": {},
   "source": [
    "## Урок 4. Визуальный анализ данных"
   ]
  },
  {
   "cell_type": "markdown",
   "id": "5caf63fc",
   "metadata": {},
   "source": [
    "### Задача 1"
   ]
  },
  {
   "cell_type": "markdown",
   "id": "cf533c14",
   "metadata": {},
   "source": [
    "*Постройте график  \n",
    "Назовите график  \n",
    "Сделайте именование оси x и оси y  \n",
    "Сделайте выводы*"
   ]
  },
  {
   "cell_type": "code",
   "execution_count": 1,
   "id": "37ac36e7",
   "metadata": {},
   "outputs": [],
   "source": [
    "import numpy as np\n",
    "import matplotlib.pyplot as plt\n",
    "import seaborn as sns\n",
    "import pandas as pd"
   ]
  },
  {
   "cell_type": "code",
   "execution_count": 2,
   "id": "1a227536",
   "metadata": {},
   "outputs": [
    {
     "data": {
      "image/png": "[encoded data removed]",
      "text/plain": [
       "<Figure size 648x432 with 1 Axes>"
      ]
     },
     "metadata": {
      "needs_background": "light"
     },
     "output_type": "display_data"
    }
   ],
   "source": [
    "plt.figure(figsize = (9, 6))\n",
    "plt.plot([0, 1, 2, 3, 4],[0, 1, 4, 9, 16],[0, 1, 8, 27])\n",
    "plt.xlabel('x')\n",
    "plt.ylabel('y = x^2, y = x^3')\n",
    "plt.title('Пример построения графика')\n",
    "plt.grid()"
   ]
  },
  {
   "cell_type": "markdown",
   "id": "14ca4765",
   "metadata": {},
   "source": [
    "***Выводы***"
   ]
  },
  {
   "cell_type": "markdown",
   "id": "3eac7fda",
   "metadata": {},
   "source": [
    "*Построение графика осуществляется директивой plot, которой следует передать, как минимум один набор данных (иначе будет просто пустое поле). Если набор данных один, то он берётся за значения по оси oY, значения по оси oX при этом принимаются равными порядковым номерам значений y.  Можно задать несколько наборов данных. При этом первый набор - значения х, все остальные - y.*  \n",
    "***Важно!*** *Количество значений по y, как минимум, в одном наборе наборе данных должно совпадать с количеством значений по х*  \n",
    "*График можно озаглавить, можно подписать оси. Для удобства можно накинуть сетку.*"
   ]
  },
  {
   "cell_type": "markdown",
   "id": "20b48b0d",
   "metadata": {},
   "source": [
    "***1.1. Скачать данные по ссылке https://www.kaggle.com/datasets/esratmaria/house-price-dataset-with-other-information***"
   ]
  },
  {
   "cell_type": "code",
   "execution_count": 3,
   "id": "5208b378",
   "metadata": {},
   "outputs": [
    {
     "data": {
      "text/html": [
       "<div>\n",
       "<style scoped>\n",
       "    .dataframe tbody tr th:only-of-type {\n",
       "        vertical-align: middle;\n",
       "    }\n",
       "\n",
       "    .dataframe tbody tr th {\n",
       "        vertical-align: top;\n",
       "    }\n",
       "\n",
       "    .dataframe thead th {\n",
       "        text-align: right;\n",
       "    }\n",
       "</style>\n",
       "<table border=\"1\" class=\"dataframe\">\n",
       "  <thead>\n",
       "    <tr style=\"text-align: right;\">\n",
       "      <th></th>\n",
       "      <th>id</th>\n",
       "      <th>date</th>\n",
       "      <th>price</th>\n",
       "      <th>bedrooms</th>\n",
       "      <th>bathrooms</th>\n",
       "      <th>sqft_living</th>\n",
       "      <th>sqft_lot</th>\n",
       "      <th>floors</th>\n",
       "      <th>waterfront</th>\n",
       "      <th>view</th>\n",
       "      <th>...</th>\n",
       "      <th>grade</th>\n",
       "      <th>sqft_above</th>\n",
       "      <th>sqft_basement</th>\n",
       "      <th>yr_built</th>\n",
       "      <th>yr_renovated</th>\n",
       "      <th>zipcode</th>\n",
       "      <th>lat</th>\n",
       "      <th>long</th>\n",
       "      <th>sqft_living15</th>\n",
       "      <th>sqft_lot15</th>\n",
       "    </tr>\n",
       "  </thead>\n",
       "  <tbody>\n",
       "    <tr>\n",
       "      <th>0</th>\n",
       "      <td>7129300520</td>\n",
       "      <td>20141013T000000</td>\n",
       "      <td>221900.0</td>\n",
       "      <td>3</td>\n",
       "      <td>1.00</td>\n",
       "      <td>1180</td>\n",
       "      <td>5650</td>\n",
       "      <td>1.0</td>\n",
       "      <td>0</td>\n",
       "      <td>0</td>\n",
       "      <td>...</td>\n",
       "      <td>7</td>\n",
       "      <td>1180</td>\n",
       "      <td>0</td>\n",
       "      <td>1955</td>\n",
       "      <td>0</td>\n",
       "      <td>98178</td>\n",
       "      <td>47.5112</td>\n",
       "      <td>-122.257</td>\n",
       "      <td>1340</td>\n",
       "      <td>5650</td>\n",
       "    </tr>\n",
       "    <tr>\n",
       "      <th>1</th>\n",
       "      <td>6414100192</td>\n",
       "      <td>20141209T000000</td>\n",
       "      <td>538000.0</td>\n",
       "      <td>3</td>\n",
       "      <td>2.25</td>\n",
       "      <td>2570</td>\n",
       "      <td>7242</td>\n",
       "      <td>2.0</td>\n",
       "      <td>0</td>\n",
       "      <td>0</td>\n",
       "      <td>...</td>\n",
       "      <td>7</td>\n",
       "      <td>2170</td>\n",
       "      <td>400</td>\n",
       "      <td>1951</td>\n",
       "      <td>1991</td>\n",
       "      <td>98125</td>\n",
       "      <td>47.7210</td>\n",
       "      <td>-122.319</td>\n",
       "      <td>1690</td>\n",
       "      <td>7639</td>\n",
       "    </tr>\n",
       "    <tr>\n",
       "      <th>2</th>\n",
       "      <td>5631500400</td>\n",
       "      <td>20150225T000000</td>\n",
       "      <td>180000.0</td>\n",
       "      <td>2</td>\n",
       "      <td>1.00</td>\n",
       "      <td>770</td>\n",
       "      <td>10000</td>\n",
       "      <td>1.0</td>\n",
       "      <td>0</td>\n",
       "      <td>0</td>\n",
       "      <td>...</td>\n",
       "      <td>6</td>\n",
       "      <td>770</td>\n",
       "      <td>0</td>\n",
       "      <td>1933</td>\n",
       "      <td>0</td>\n",
       "      <td>98028</td>\n",
       "      <td>47.7379</td>\n",
       "      <td>-122.233</td>\n",
       "      <td>2720</td>\n",
       "      <td>8062</td>\n",
       "    </tr>\n",
       "    <tr>\n",
       "      <th>3</th>\n",
       "      <td>2487200875</td>\n",
       "      <td>20141209T000000</td>\n",
       "      <td>604000.0</td>\n",
       "      <td>4</td>\n",
       "      <td>3.00</td>\n",
       "      <td>1960</td>\n",
       "      <td>5000</td>\n",
       "      <td>1.0</td>\n",
       "      <td>0</td>\n",
       "      <td>0</td>\n",
       "      <td>...</td>\n",
       "      <td>7</td>\n",
       "      <td>1050</td>\n",
       "      <td>910</td>\n",
       "      <td>1965</td>\n",
       "      <td>0</td>\n",
       "      <td>98136</td>\n",
       "      <td>47.5208</td>\n",
       "      <td>-122.393</td>\n",
       "      <td>1360</td>\n",
       "      <td>5000</td>\n",
       "    </tr>\n",
       "    <tr>\n",
       "      <th>4</th>\n",
       "      <td>1954400510</td>\n",
       "      <td>20150218T000000</td>\n",
       "      <td>510000.0</td>\n",
       "      <td>3</td>\n",
       "      <td>2.00</td>\n",
       "      <td>1680</td>\n",
       "      <td>8080</td>\n",
       "      <td>1.0</td>\n",
       "      <td>0</td>\n",
       "      <td>0</td>\n",
       "      <td>...</td>\n",
       "      <td>8</td>\n",
       "      <td>1680</td>\n",
       "      <td>0</td>\n",
       "      <td>1987</td>\n",
       "      <td>0</td>\n",
       "      <td>98074</td>\n",
       "      <td>47.6168</td>\n",
       "      <td>-122.045</td>\n",
       "      <td>1800</td>\n",
       "      <td>7503</td>\n",
       "    </tr>\n",
       "  </tbody>\n",
       "</table>\n",
       "<p>5 rows × 21 columns</p>\n",
       "</div>"
      ],
      "text/plain": [
       "           id             date     price  bedrooms  bathrooms  sqft_living  \\\n",
       "0  7129300520  20141013T000000  221900.0         3       1.00         1180   \n",
       "1  6414100192  20141209T000000  538000.0         3       2.25         2570   \n",
       "2  5631500400  20150225T000000  180000.0         2       1.00          770   \n",
       "3  2487200875  20141209T000000  604000.0         4       3.00         1960   \n",
       "4  1954400510  20150218T000000  510000.0         3       2.00         1680   \n",
       "\n",
       "   sqft_lot  floors  waterfront  view  ...  grade  sqft_above  sqft_basement  \\\n",
       "0      5650     1.0           0     0  ...      7        1180              0   \n",
       "1      7242     2.0           0     0  ...      7        2170            400   \n",
       "2     10000     1.0           0     0  ...      6         770              0   \n",
       "3      5000     1.0           0     0  ...      7        1050            910   \n",
       "4      8080     1.0           0     0  ...      8        1680              0   \n",
       "\n",
       "   yr_built  yr_renovated  zipcode      lat     long  sqft_living15  \\\n",
       "0      1955             0    98178  47.5112 -122.257           1340   \n",
       "1      1951          1991    98125  47.7210 -122.319           1690   \n",
       "2      1933             0    98028  47.7379 -122.233           2720   \n",
       "3      1965             0    98136  47.5208 -122.393           1360   \n",
       "4      1987             0    98074  47.6168 -122.045           1800   \n",
       "\n",
       "   sqft_lot15  \n",
       "0        5650  \n",
       "1        7639  \n",
       "2        8062  \n",
       "3        5000  \n",
       "4        7503  \n",
       "\n",
       "[5 rows x 21 columns]"
      ]
     },
     "execution_count": 3,
     "metadata": {},
     "output_type": "execute_result"
    }
   ],
   "source": [
    "df = pd.read_csv(\"kc_house_data.csv\")\n",
    "df.head()"
   ]
  },
  {
   "cell_type": "markdown",
   "id": "5767d062",
   "metadata": {},
   "source": [
    "***1.2 Изучите стоимости недвижимости***"
   ]
  },
  {
   "cell_type": "code",
   "execution_count": 4,
   "id": "5235f210",
   "metadata": {},
   "outputs": [
    {
     "data": {
      "text/html": [
       "<div>\n",
       "<style scoped>\n",
       "    .dataframe tbody tr th:only-of-type {\n",
       "        vertical-align: middle;\n",
       "    }\n",
       "\n",
       "    .dataframe tbody tr th {\n",
       "        vertical-align: top;\n",
       "    }\n",
       "\n",
       "    .dataframe thead th {\n",
       "        text-align: right;\n",
       "    }\n",
       "</style>\n",
       "<table border=\"1\" class=\"dataframe\">\n",
       "  <thead>\n",
       "    <tr style=\"text-align: right;\">\n",
       "      <th></th>\n",
       "      <th>price</th>\n",
       "    </tr>\n",
       "  </thead>\n",
       "  <tbody>\n",
       "    <tr>\n",
       "      <th>min</th>\n",
       "      <td>7.500000e+04</td>\n",
       "    </tr>\n",
       "    <tr>\n",
       "      <th>mean</th>\n",
       "      <td>5.400881e+05</td>\n",
       "    </tr>\n",
       "    <tr>\n",
       "      <th>max</th>\n",
       "      <td>7.700000e+06</td>\n",
       "    </tr>\n",
       "  </tbody>\n",
       "</table>\n",
       "</div>"
      ],
      "text/plain": [
       "             price\n",
       "min   7.500000e+04\n",
       "mean  5.400881e+05\n",
       "max   7.700000e+06"
      ]
     },
     "execution_count": 4,
     "metadata": {},
     "output_type": "execute_result"
    }
   ],
   "source": [
    "df.agg({'price': ['min', 'mean', 'max']})"
   ]
  },
  {
   "cell_type": "markdown",
   "id": "23325805",
   "metadata": {},
   "source": [
    "*В рассмариваемом наборе данных стоимость недвижимости варьируется от 75 000 до 7 700 000. Средняя цена составляет 540 088,14. Стоимость зависит от множества параметров, визуализация без дополнительных условий не допустима.*"
   ]
  },
  {
   "cell_type": "markdown",
   "id": "55f608dc",
   "metadata": {},
   "source": [
    "***1.3 Изучите распределение квадратуры жилой площади***"
   ]
  },
  {
   "cell_type": "code",
   "execution_count": 5,
   "id": "d343831e",
   "metadata": {},
   "outputs": [
    {
     "data": {
      "text/html": [
       "<div>\n",
       "<style scoped>\n",
       "    .dataframe tbody tr th:only-of-type {\n",
       "        vertical-align: middle;\n",
       "    }\n",
       "\n",
       "    .dataframe tbody tr th {\n",
       "        vertical-align: top;\n",
       "    }\n",
       "\n",
       "    .dataframe thead th {\n",
       "        text-align: right;\n",
       "    }\n",
       "</style>\n",
       "<table border=\"1\" class=\"dataframe\">\n",
       "  <thead>\n",
       "    <tr style=\"text-align: right;\">\n",
       "      <th></th>\n",
       "      <th>sqft_living</th>\n",
       "    </tr>\n",
       "  </thead>\n",
       "  <tbody>\n",
       "    <tr>\n",
       "      <th>min</th>\n",
       "      <td>290.000000</td>\n",
       "    </tr>\n",
       "    <tr>\n",
       "      <th>mean</th>\n",
       "      <td>2079.899736</td>\n",
       "    </tr>\n",
       "    <tr>\n",
       "      <th>max</th>\n",
       "      <td>13540.000000</td>\n",
       "    </tr>\n",
       "  </tbody>\n",
       "</table>\n",
       "</div>"
      ],
      "text/plain": [
       "       sqft_living\n",
       "min     290.000000\n",
       "mean   2079.899736\n",
       "max   13540.000000"
      ]
     },
     "execution_count": 5,
     "metadata": {},
     "output_type": "execute_result"
    }
   ],
   "source": [
    "df.agg({'sqft_living': ['min', 'mean', 'max']})"
   ]
  },
  {
   "cell_type": "markdown",
   "id": "fecc6d97",
   "metadata": {},
   "source": [
    "*Минимальная жилая площадь здесь составляет 290 кв. футов, максимальная - 13 540. Среднее значение жилой площади составляет 2 079,90 кв. футов. Зависимость квадратуры жилой площади сложно логически связать с каким-либо параметром дома. Поэтому здесь можно обойтись без визуализации*"
   ]
  },
  {
   "cell_type": "markdown",
   "id": "01e79e3d",
   "metadata": {},
   "source": [
    "***1.4 Изучите распределение года постройки***"
   ]
  },
  {
   "cell_type": "code",
   "execution_count": 6,
   "id": "a1b026b8",
   "metadata": {},
   "outputs": [
    {
     "data": {
      "text/html": [
       "<div>\n",
       "<style scoped>\n",
       "    .dataframe tbody tr th:only-of-type {\n",
       "        vertical-align: middle;\n",
       "    }\n",
       "\n",
       "    .dataframe tbody tr th {\n",
       "        vertical-align: top;\n",
       "    }\n",
       "\n",
       "    .dataframe thead th {\n",
       "        text-align: right;\n",
       "    }\n",
       "</style>\n",
       "<table border=\"1\" class=\"dataframe\">\n",
       "  <thead>\n",
       "    <tr style=\"text-align: right;\">\n",
       "      <th></th>\n",
       "      <th>yr_built</th>\n",
       "    </tr>\n",
       "    <tr>\n",
       "      <th>yr_built</th>\n",
       "      <th></th>\n",
       "    </tr>\n",
       "  </thead>\n",
       "  <tbody>\n",
       "    <tr>\n",
       "      <th>1900</th>\n",
       "      <td>87</td>\n",
       "    </tr>\n",
       "    <tr>\n",
       "      <th>1901</th>\n",
       "      <td>29</td>\n",
       "    </tr>\n",
       "    <tr>\n",
       "      <th>1902</th>\n",
       "      <td>27</td>\n",
       "    </tr>\n",
       "    <tr>\n",
       "      <th>1903</th>\n",
       "      <td>46</td>\n",
       "    </tr>\n",
       "    <tr>\n",
       "      <th>1904</th>\n",
       "      <td>45</td>\n",
       "    </tr>\n",
       "    <tr>\n",
       "      <th>...</th>\n",
       "      <td>...</td>\n",
       "    </tr>\n",
       "    <tr>\n",
       "      <th>2011</th>\n",
       "      <td>130</td>\n",
       "    </tr>\n",
       "    <tr>\n",
       "      <th>2012</th>\n",
       "      <td>170</td>\n",
       "    </tr>\n",
       "    <tr>\n",
       "      <th>2013</th>\n",
       "      <td>201</td>\n",
       "    </tr>\n",
       "    <tr>\n",
       "      <th>2014</th>\n",
       "      <td>559</td>\n",
       "    </tr>\n",
       "    <tr>\n",
       "      <th>2015</th>\n",
       "      <td>38</td>\n",
       "    </tr>\n",
       "  </tbody>\n",
       "</table>\n",
       "<p>116 rows × 1 columns</p>\n",
       "</div>"
      ],
      "text/plain": [
       "          yr_built\n",
       "yr_built          \n",
       "1900            87\n",
       "1901            29\n",
       "1902            27\n",
       "1903            46\n",
       "1904            45\n",
       "...            ...\n",
       "2011           130\n",
       "2012           170\n",
       "2013           201\n",
       "2014           559\n",
       "2015            38\n",
       "\n",
       "[116 rows x 1 columns]"
      ]
     },
     "execution_count": 6,
     "metadata": {},
     "output_type": "execute_result"
    }
   ],
   "source": [
    "df.groupby('yr_built').agg({'yr_built': 'count'})"
   ]
  },
  {
   "cell_type": "markdown",
   "id": "d542632b",
   "metadata": {},
   "source": [
    "*Самое старое здание построено в 1900 году, самое новое - в 2015. Итого получается, что есть набор данных за 116 лет, который в табличном виде не очень-то наглядно демонстрирует распределение. Стоит построить график:*"
   ]
  },
  {
   "cell_type": "code",
   "execution_count": 7,
   "id": "cc50c068",
   "metadata": {},
   "outputs": [
    {
     "data": {
      "image/png": "[encoded data removed]",
      "text/plain": [
       "<Figure size 1080x432 with 1 Axes>"
      ]
     },
     "metadata": {
      "needs_background": "light"
     },
     "output_type": "display_data"
    }
   ],
   "source": [
    "plt.figure(figsize = (15, 6))\n",
    "plt.plot(df.groupby('yr_built').agg({'yr_built': 'count'}))\n",
    "plt.xlabel('год постройки')\n",
    "plt.ylabel('количество зданий')\n",
    "plt.title('Распределение года постройки')\n",
    "plt.grid()"
   ]
  },
  {
   "cell_type": "markdown",
   "id": "7decc016",
   "metadata": {},
   "source": [
    "*И вот здесь уже видно, что бОльшая часть зданий построена в период от, примерно, 1970 до 2015 года*"
   ]
  },
  {
   "cell_type": "markdown",
   "id": "e3ca96e6",
   "metadata": {},
   "source": [
    "### Задача 2"
   ]
  },
  {
   "cell_type": "markdown",
   "id": "80b8bc31",
   "metadata": {},
   "source": [
    "***2.1 Изучите распределение домов от наличия вида на набережную  \n",
    "Постройте график  \n",
    "Сделайте выводы***"
   ]
  },
  {
   "cell_type": "code",
   "execution_count": 8,
   "id": "4e33cf08",
   "metadata": {},
   "outputs": [
    {
     "data": {
      "text/html": [
       "<div>\n",
       "<style scoped>\n",
       "    .dataframe tbody tr th:only-of-type {\n",
       "        vertical-align: middle;\n",
       "    }\n",
       "\n",
       "    .dataframe tbody tr th {\n",
       "        vertical-align: top;\n",
       "    }\n",
       "\n",
       "    .dataframe thead th {\n",
       "        text-align: right;\n",
       "    }\n",
       "</style>\n",
       "<table border=\"1\" class=\"dataframe\">\n",
       "  <thead>\n",
       "    <tr style=\"text-align: right;\">\n",
       "      <th></th>\n",
       "      <th>waterfront</th>\n",
       "      <th>id</th>\n",
       "    </tr>\n",
       "  </thead>\n",
       "  <tbody>\n",
       "    <tr>\n",
       "      <th>0</th>\n",
       "      <td>0</td>\n",
       "      <td>21450</td>\n",
       "    </tr>\n",
       "    <tr>\n",
       "      <th>1</th>\n",
       "      <td>1</td>\n",
       "      <td>163</td>\n",
       "    </tr>\n",
       "  </tbody>\n",
       "</table>\n",
       "</div>"
      ],
      "text/plain": [
       "   waterfront     id\n",
       "0           0  21450\n",
       "1           1    163"
      ]
     },
     "execution_count": 8,
     "metadata": {},
     "output_type": "execute_result"
    }
   ],
   "source": [
    "tmp = df.groupby('waterfront')['id'].count().reset_index()\n",
    "tmp.head()"
   ]
  },
  {
   "cell_type": "code",
   "execution_count": 9,
   "id": "47b42546",
   "metadata": {},
   "outputs": [
    {
     "data": {
      "image/png": "[encoded data removed]",
      "text/plain": [
       "<Figure size 504x504 with 1 Axes>"
      ]
     },
     "metadata": {
      "needs_background": "light"
     },
     "output_type": "display_data"
    }
   ],
   "source": [
    "plt.figure(figsize = (7, 7))\n",
    "plt.title('Распределение домов от наличия вида на набережную')\n",
    "sns.barplot(x = tmp['waterfront'],y = tmp['id'])\n",
    "plt.xlabel('0 - без вида на набережную, 1 - с видом на набережную')\n",
    "plt.ylabel('Количество домов')\n",
    "plt.xticks([])\n",
    "for i in range(len(tmp['id'])):\n",
    "        plt.text(i,tmp['id'][i],str(tmp['id'][i]) + \" (\" + str(tmp['waterfront'][i]) + \")\");"
   ]
  },
  {
   "cell_type": "markdown",
   "id": "5dd2a13d",
   "metadata": {},
   "source": [
    "***Выводы***"
   ]
  },
  {
   "cell_type": "markdown",
   "id": "591de1af",
   "metadata": {},
   "source": [
    "*Здесь с обычным plot можно получить линию, соединяющую два значения, что не очень информативно. Поэтому правильнее использовать bar. Просто два столбца тоже особо ни о чём не говорят (приблизительные значения), поэтому стоит подписать соответствующие им значения. По умолчанию подписи по осям содержат не только значения из выборки данных, но и промежуточные. В данном случае это сбивает с толку: по оси оХ только два значения 0 и 1. Т.к. сами столбцы подписываем, то пподписи значений по оХ убираем совсем.*  \n",
    "***Выводы по самим значениям.*** *Подавляющее количество домов (21450) без вида на набережную. С видом всего 163.**"
   ]
  },
  {
   "cell_type": "markdown",
   "id": "b7679624",
   "metadata": {},
   "source": [
    "***2.2 Изучите распределение этажей домов***"
   ]
  },
  {
   "cell_type": "code",
   "execution_count": 12,
   "id": "dc670b04",
   "metadata": {},
   "outputs": [
    {
     "data": {
      "text/html": [
       "<div>\n",
       "<style scoped>\n",
       "    .dataframe tbody tr th:only-of-type {\n",
       "        vertical-align: middle;\n",
       "    }\n",
       "\n",
       "    .dataframe tbody tr th {\n",
       "        vertical-align: top;\n",
       "    }\n",
       "\n",
       "    .dataframe thead th {\n",
       "        text-align: right;\n",
       "    }\n",
       "</style>\n",
       "<table border=\"1\" class=\"dataframe\">\n",
       "  <thead>\n",
       "    <tr style=\"text-align: right;\">\n",
       "      <th></th>\n",
       "      <th>floors</th>\n",
       "      <th>id</th>\n",
       "    </tr>\n",
       "  </thead>\n",
       "  <tbody>\n",
       "    <tr>\n",
       "      <th>0</th>\n",
       "      <td>1.0</td>\n",
       "      <td>10680</td>\n",
       "    </tr>\n",
       "    <tr>\n",
       "      <th>1</th>\n",
       "      <td>1.5</td>\n",
       "      <td>1910</td>\n",
       "    </tr>\n",
       "    <tr>\n",
       "      <th>2</th>\n",
       "      <td>2.0</td>\n",
       "      <td>8241</td>\n",
       "    </tr>\n",
       "    <tr>\n",
       "      <th>3</th>\n",
       "      <td>2.5</td>\n",
       "      <td>161</td>\n",
       "    </tr>\n",
       "    <tr>\n",
       "      <th>4</th>\n",
       "      <td>3.0</td>\n",
       "      <td>613</td>\n",
       "    </tr>\n",
       "    <tr>\n",
       "      <th>5</th>\n",
       "      <td>3.5</td>\n",
       "      <td>8</td>\n",
       "    </tr>\n",
       "  </tbody>\n",
       "</table>\n",
       "</div>"
      ],
      "text/plain": [
       "   floors     id\n",
       "0     1.0  10680\n",
       "1     1.5   1910\n",
       "2     2.0   8241\n",
       "3     2.5    161\n",
       "4     3.0    613\n",
       "5     3.5      8"
      ]
     },
     "execution_count": 12,
     "metadata": {},
     "output_type": "execute_result"
    }
   ],
   "source": [
    "tmp = df.groupby('floors')['id'].count().reset_index()\n",
    "tmp"
   ]
  },
  {
   "cell_type": "code",
   "execution_count": 14,
   "id": "f8363bab",
   "metadata": {},
   "outputs": [
    {
     "data": {
      "image/png": "[encoded data removed]",
      "text/plain": [
       "<Figure size 1080x504 with 1 Axes>"
      ]
     },
     "metadata": {
      "needs_background": "light"
     },
     "output_type": "display_data"
    }
   ],
   "source": [
    "plt.figure(figsize = (15, 7))\n",
    "plt.title('Распределение домов по этажности')\n",
    "sns.barplot(x = tmp['floors'],y = tmp['id']);\n",
    "plt.xlabel('Этажность')\n",
    "plt.ylabel('Количество домов');"
   ]
  },
  {
   "cell_type": "markdown",
   "id": "2a6f37fa",
   "metadata": {},
   "source": [
    "*Здесь видно, что основная часть домов одно- и двухэтажные. Немало домов этажностью 1,5 (их даже больше, чем трёхэтажных)*  \n",
    "*В датасете 5 наборов данных - этажи от 1 до 3. Зданий в 3,5 этажа всего 8, поэтому на диаграмме выглядит так, что 3,5 этажа - 0 домов. Тот случай, когда подпись столбцов была бы очень кстати.*"
   ]
  },
  {
   "cell_type": "markdown",
   "id": "5c7db73c",
   "metadata": {},
   "source": [
    "***2.3 Изучите распределение состояния домов***"
   ]
  },
  {
   "cell_type": "code",
   "execution_count": 15,
   "id": "3f567e3a",
   "metadata": {},
   "outputs": [
    {
     "data": {
      "text/html": [
       "<div>\n",
       "<style scoped>\n",
       "    .dataframe tbody tr th:only-of-type {\n",
       "        vertical-align: middle;\n",
       "    }\n",
       "\n",
       "    .dataframe tbody tr th {\n",
       "        vertical-align: top;\n",
       "    }\n",
       "\n",
       "    .dataframe thead th {\n",
       "        text-align: right;\n",
       "    }\n",
       "</style>\n",
       "<table border=\"1\" class=\"dataframe\">\n",
       "  <thead>\n",
       "    <tr style=\"text-align: right;\">\n",
       "      <th></th>\n",
       "      <th>condition</th>\n",
       "      <th>id</th>\n",
       "    </tr>\n",
       "  </thead>\n",
       "  <tbody>\n",
       "    <tr>\n",
       "      <th>0</th>\n",
       "      <td>1</td>\n",
       "      <td>30</td>\n",
       "    </tr>\n",
       "    <tr>\n",
       "      <th>1</th>\n",
       "      <td>2</td>\n",
       "      <td>172</td>\n",
       "    </tr>\n",
       "    <tr>\n",
       "      <th>2</th>\n",
       "      <td>3</td>\n",
       "      <td>14031</td>\n",
       "    </tr>\n",
       "    <tr>\n",
       "      <th>3</th>\n",
       "      <td>4</td>\n",
       "      <td>5679</td>\n",
       "    </tr>\n",
       "    <tr>\n",
       "      <th>4</th>\n",
       "      <td>5</td>\n",
       "      <td>1701</td>\n",
       "    </tr>\n",
       "  </tbody>\n",
       "</table>\n",
       "</div>"
      ],
      "text/plain": [
       "   condition     id\n",
       "0          1     30\n",
       "1          2    172\n",
       "2          3  14031\n",
       "3          4   5679\n",
       "4          5   1701"
      ]
     },
     "execution_count": 15,
     "metadata": {},
     "output_type": "execute_result"
    }
   ],
   "source": [
    "tmp = df.groupby('condition')['id'].count().reset_index()\n",
    "tmp.head()"
   ]
  },
  {
   "cell_type": "code",
   "execution_count": 16,
   "id": "5cbfebed",
   "metadata": {},
   "outputs": [
    {
     "data": {
      "image/png": "[encoded data removed]",
      "text/plain": [
       "<Figure size 720x720 with 1 Axes>"
      ]
     },
     "metadata": {},
     "output_type": "display_data"
    }
   ],
   "source": [
    "fig = plt.figure(figsize =(10, 10))\n",
    "plt.pie(tmp['id'], explode = [0.1, 0.02, 0.05, 0.04, 0.05], autopct = '%1.1f%%')\n",
    "plt.legend(tmp['condition']);"
   ]
  },
  {
   "cell_type": "markdown",
   "id": "c8ee7862",
   "metadata": {},
   "source": [
    "*Здесь удобно воспользоваться круговой диаграммой. Сразу видно, что больше всего домов в удовлетворительном состоянии, затем в хорошем, после - в отличном. Меньше всего домов в плохом и ужасном состояниях.*"
   ]
  },
  {
   "cell_type": "markdown",
   "id": "a5278caf",
   "metadata": {},
   "source": [
    "## Задача 3"
   ]
  },
  {
   "cell_type": "markdown",
   "id": "d7b84afb",
   "metadata": {},
   "source": [
    "***Исследуйте, какие характеристики недвижимости влияют на стоимость недвижимости, с применением не менее 5 диаграмм из урока.  \n",
    "Анализ сделайте в формате storytelling: дополнить каждый график письменными выводами и наблюдениями.***"
   ]
  },
  {
   "cell_type": "markdown",
   "id": "5bc28c35",
   "metadata": {},
   "source": [
    "*Здесь следует рассмотреть зависимость цены(price) от других параметров. Рассмотрим 5 параметров: год постройки, общая площадь дома, этажность, количество спален, класс здания*"
   ]
  },
  {
   "cell_type": "code",
   "execution_count": 17,
   "id": "4078cd2d",
   "metadata": {},
   "outputs": [
    {
     "data": {
      "image/png": "[encoded data removed]",
      "text/plain": [
       "<Figure size 1080x504 with 1 Axes>"
      ]
     },
     "metadata": {
      "needs_background": "light"
     },
     "output_type": "display_data"
    }
   ],
   "source": [
    "tmp = df.groupby('yr_built')['price'].mean().reset_index()\n",
    "plt.figure(figsize = (15, 7))\n",
    "plt.title('Зависимость средней цены от года постройки')\n",
    "sns.barplot(x=tmp['yr_built'],y=tmp['price'])\n",
    "plt.xlabel('Год постройки')\n",
    "plt.ylabel('Средняя цена');"
   ]
  },
  {
   "cell_type": "markdown",
   "id": "ca2b1d95",
   "metadata": {},
   "source": [
    "*От года постройки, как видно, средняя цена особо не зависит. Т.е. преположение о том, что чем старее здание, тем оно должно стоить дешевле (или наоборот - дороже), не состоятельно.*"
   ]
  },
  {
   "cell_type": "code",
   "execution_count": 18,
   "id": "ee3ffe5c",
   "metadata": {},
   "outputs": [
    {
     "data": {
      "image/png": "[encoded data removed]",
      "text/plain": [
       "<Figure size 1080x504 with 1 Axes>"
      ]
     },
     "metadata": {
      "needs_background": "light"
     },
     "output_type": "display_data"
    }
   ],
   "source": [
    "tmp = df.groupby('sqft_lot')['price'].mean().reset_index()\n",
    "plt.figure(figsize = (15, 7))\n",
    "plt.title('Зависимость средней цены от площади помещения')\n",
    "plt.scatter(tmp['sqft_lot'],tmp['price'])\n",
    "plt.xlabel('Площадь')\n",
    "plt.ylabel('Средняя цена');"
   ]
  },
  {
   "cell_type": "markdown",
   "id": "17b52e36",
   "metadata": {},
   "source": [
    "*По логике - чем больше площадь, тем цена должна быть выше. Здесь этого нет. Да, есть опредёлнная связь цены и общей площади помещения. Но не так сильно, как ожидалось*"
   ]
  },
  {
   "cell_type": "code",
   "execution_count": 19,
   "id": "60803893",
   "metadata": {},
   "outputs": [
    {
     "data": {
      "text/html": [
       "<div>\n",
       "<style scoped>\n",
       "    .dataframe tbody tr th:only-of-type {\n",
       "        vertical-align: middle;\n",
       "    }\n",
       "\n",
       "    .dataframe tbody tr th {\n",
       "        vertical-align: top;\n",
       "    }\n",
       "\n",
       "    .dataframe thead th {\n",
       "        text-align: right;\n",
       "    }\n",
       "</style>\n",
       "<table border=\"1\" class=\"dataframe\">\n",
       "  <thead>\n",
       "    <tr style=\"text-align: right;\">\n",
       "      <th></th>\n",
       "      <th>floors</th>\n",
       "      <th>price</th>\n",
       "    </tr>\n",
       "  </thead>\n",
       "  <tbody>\n",
       "    <tr>\n",
       "      <th>0</th>\n",
       "      <td>1.0</td>\n",
       "      <td>4.421806e+05</td>\n",
       "    </tr>\n",
       "    <tr>\n",
       "      <th>1</th>\n",
       "      <td>1.5</td>\n",
       "      <td>5.589806e+05</td>\n",
       "    </tr>\n",
       "    <tr>\n",
       "      <th>2</th>\n",
       "      <td>2.0</td>\n",
       "      <td>6.488912e+05</td>\n",
       "    </tr>\n",
       "    <tr>\n",
       "      <th>3</th>\n",
       "      <td>2.5</td>\n",
       "      <td>1.060346e+06</td>\n",
       "    </tr>\n",
       "    <tr>\n",
       "      <th>4</th>\n",
       "      <td>3.0</td>\n",
       "      <td>5.825260e+05</td>\n",
       "    </tr>\n",
       "    <tr>\n",
       "      <th>5</th>\n",
       "      <td>3.5</td>\n",
       "      <td>9.333125e+05</td>\n",
       "    </tr>\n",
       "  </tbody>\n",
       "</table>\n",
       "</div>"
      ],
      "text/plain": [
       "   floors         price\n",
       "0     1.0  4.421806e+05\n",
       "1     1.5  5.589806e+05\n",
       "2     2.0  6.488912e+05\n",
       "3     2.5  1.060346e+06\n",
       "4     3.0  5.825260e+05\n",
       "5     3.5  9.333125e+05"
      ]
     },
     "execution_count": 19,
     "metadata": {},
     "output_type": "execute_result"
    },
    {
     "data": {
      "image/png": "[encoded data removed]",
      "text/plain": [
       "<Figure size 1080x504 with 1 Axes>"
      ]
     },
     "metadata": {
      "needs_background": "light"
     },
     "output_type": "display_data"
    }
   ],
   "source": [
    "tmp = df.groupby('floors')['price'].mean().reset_index()\n",
    "plt.figure(figsize = (15, 7))\n",
    "plt.title('Зависимость средней цены от этажности')\n",
    "sns.barplot(x=tmp['floors'],y=tmp['price'])\n",
    "plt.xlabel('Этажи')\n",
    "plt.ylabel('Средняя цена')\n",
    "tmp"
   ]
  },
  {
   "cell_type": "markdown",
   "id": "da684fdd",
   "metadata": {},
   "source": [
    "*Самая высокая средняя цена у домов 2,5 этажа. На втором месте - дома 3,5 этажа. Средняя цена домов 1,5 и 3 этажа примерно на одном уровне. Двухэтажные дома стоят чуть дороже 1,5 и 3 этажных. Средняя цена одноэтажных зданий самая низкая.*"
   ]
  },
  {
   "cell_type": "code",
   "execution_count": 20,
   "id": "eaf102e8",
   "metadata": {},
   "outputs": [
    {
     "data": {
      "text/html": [
       "<div>\n",
       "<style scoped>\n",
       "    .dataframe tbody tr th:only-of-type {\n",
       "        vertical-align: middle;\n",
       "    }\n",
       "\n",
       "    .dataframe tbody tr th {\n",
       "        vertical-align: top;\n",
       "    }\n",
       "\n",
       "    .dataframe thead th {\n",
       "        text-align: right;\n",
       "    }\n",
       "</style>\n",
       "<table border=\"1\" class=\"dataframe\">\n",
       "  <thead>\n",
       "    <tr style=\"text-align: right;\">\n",
       "      <th></th>\n",
       "      <th>bedrooms</th>\n",
       "      <th>price</th>\n",
       "    </tr>\n",
       "  </thead>\n",
       "  <tbody>\n",
       "    <tr>\n",
       "      <th>0</th>\n",
       "      <td>0</td>\n",
       "      <td>4.095038e+05</td>\n",
       "    </tr>\n",
       "    <tr>\n",
       "      <th>1</th>\n",
       "      <td>1</td>\n",
       "      <td>3.176429e+05</td>\n",
       "    </tr>\n",
       "    <tr>\n",
       "      <th>2</th>\n",
       "      <td>2</td>\n",
       "      <td>4.013727e+05</td>\n",
       "    </tr>\n",
       "    <tr>\n",
       "      <th>3</th>\n",
       "      <td>3</td>\n",
       "      <td>4.662321e+05</td>\n",
       "    </tr>\n",
       "    <tr>\n",
       "      <th>4</th>\n",
       "      <td>4</td>\n",
       "      <td>6.354195e+05</td>\n",
       "    </tr>\n",
       "    <tr>\n",
       "      <th>5</th>\n",
       "      <td>5</td>\n",
       "      <td>7.865998e+05</td>\n",
       "    </tr>\n",
       "    <tr>\n",
       "      <th>6</th>\n",
       "      <td>6</td>\n",
       "      <td>8.255206e+05</td>\n",
       "    </tr>\n",
       "    <tr>\n",
       "      <th>7</th>\n",
       "      <td>7</td>\n",
       "      <td>9.511847e+05</td>\n",
       "    </tr>\n",
       "    <tr>\n",
       "      <th>8</th>\n",
       "      <td>8</td>\n",
       "      <td>1.105077e+06</td>\n",
       "    </tr>\n",
       "    <tr>\n",
       "      <th>9</th>\n",
       "      <td>9</td>\n",
       "      <td>8.939998e+05</td>\n",
       "    </tr>\n",
       "    <tr>\n",
       "      <th>10</th>\n",
       "      <td>10</td>\n",
       "      <td>8.193333e+05</td>\n",
       "    </tr>\n",
       "    <tr>\n",
       "      <th>11</th>\n",
       "      <td>11</td>\n",
       "      <td>5.200000e+05</td>\n",
       "    </tr>\n",
       "    <tr>\n",
       "      <th>12</th>\n",
       "      <td>33</td>\n",
       "      <td>6.400000e+05</td>\n",
       "    </tr>\n",
       "  </tbody>\n",
       "</table>\n",
       "</div>"
      ],
      "text/plain": [
       "    bedrooms         price\n",
       "0          0  4.095038e+05\n",
       "1          1  3.176429e+05\n",
       "2          2  4.013727e+05\n",
       "3          3  4.662321e+05\n",
       "4          4  6.354195e+05\n",
       "5          5  7.865998e+05\n",
       "6          6  8.255206e+05\n",
       "7          7  9.511847e+05\n",
       "8          8  1.105077e+06\n",
       "9          9  8.939998e+05\n",
       "10        10  8.193333e+05\n",
       "11        11  5.200000e+05\n",
       "12        33  6.400000e+05"
      ]
     },
     "execution_count": 20,
     "metadata": {},
     "output_type": "execute_result"
    },
    {
     "data": {
      "image/png": "[encoded data removed]",
      "text/plain": [
       "<Figure size 1080x504 with 1 Axes>"
      ]
     },
     "metadata": {
      "needs_background": "light"
     },
     "output_type": "display_data"
    }
   ],
   "source": [
    "tmp = df.groupby('bedrooms')['price'].mean().reset_index()\n",
    "plt.figure(figsize = (15, 7))\n",
    "plt.title('Зависимость средней цены от количества спален')\n",
    "sns.barplot(x=tmp['bedrooms'],y=tmp['price'])\n",
    "plt.xlabel('Спальни')\n",
    "plt.ylabel('Средняя цена')\n",
    "tmp"
   ]
  },
  {
   "cell_type": "markdown",
   "id": "c94a9855",
   "metadata": {},
   "source": [
    "*Дома с 8 спальнями занимают лидирующую позицию по средней стоимости. Здесь наблюдаются дома с 10,11 и даже 33 спальнями. Судя по всему речь идёт о многоквартиных домах. Если же смотреть на среднюю стоимость домов с количеством спален от 1 до 8, то здесь вполне закномерный рост цены.*"
   ]
  },
  {
   "cell_type": "code",
   "execution_count": 21,
   "id": "a6c76220",
   "metadata": {},
   "outputs": [
    {
     "data": {
      "text/html": [
       "<div>\n",
       "<style scoped>\n",
       "    .dataframe tbody tr th:only-of-type {\n",
       "        vertical-align: middle;\n",
       "    }\n",
       "\n",
       "    .dataframe tbody tr th {\n",
       "        vertical-align: top;\n",
       "    }\n",
       "\n",
       "    .dataframe thead th {\n",
       "        text-align: right;\n",
       "    }\n",
       "</style>\n",
       "<table border=\"1\" class=\"dataframe\">\n",
       "  <thead>\n",
       "    <tr style=\"text-align: right;\">\n",
       "      <th></th>\n",
       "      <th>grade</th>\n",
       "      <th>price</th>\n",
       "    </tr>\n",
       "  </thead>\n",
       "  <tbody>\n",
       "    <tr>\n",
       "      <th>0</th>\n",
       "      <td>1</td>\n",
       "      <td>1.420000e+05</td>\n",
       "    </tr>\n",
       "    <tr>\n",
       "      <th>1</th>\n",
       "      <td>3</td>\n",
       "      <td>2.056667e+05</td>\n",
       "    </tr>\n",
       "    <tr>\n",
       "      <th>2</th>\n",
       "      <td>4</td>\n",
       "      <td>2.143810e+05</td>\n",
       "    </tr>\n",
       "    <tr>\n",
       "      <th>3</th>\n",
       "      <td>5</td>\n",
       "      <td>2.485240e+05</td>\n",
       "    </tr>\n",
       "    <tr>\n",
       "      <th>4</th>\n",
       "      <td>6</td>\n",
       "      <td>3.019196e+05</td>\n",
       "    </tr>\n",
       "    <tr>\n",
       "      <th>5</th>\n",
       "      <td>7</td>\n",
       "      <td>4.025903e+05</td>\n",
       "    </tr>\n",
       "    <tr>\n",
       "      <th>6</th>\n",
       "      <td>8</td>\n",
       "      <td>5.428528e+05</td>\n",
       "    </tr>\n",
       "    <tr>\n",
       "      <th>7</th>\n",
       "      <td>9</td>\n",
       "      <td>7.735132e+05</td>\n",
       "    </tr>\n",
       "    <tr>\n",
       "      <th>8</th>\n",
       "      <td>10</td>\n",
       "      <td>1.071771e+06</td>\n",
       "    </tr>\n",
       "    <tr>\n",
       "      <th>9</th>\n",
       "      <td>11</td>\n",
       "      <td>1.496842e+06</td>\n",
       "    </tr>\n",
       "    <tr>\n",
       "      <th>10</th>\n",
       "      <td>12</td>\n",
       "      <td>2.191222e+06</td>\n",
       "    </tr>\n",
       "    <tr>\n",
       "      <th>11</th>\n",
       "      <td>13</td>\n",
       "      <td>3.709615e+06</td>\n",
       "    </tr>\n",
       "  </tbody>\n",
       "</table>\n",
       "</div>"
      ],
      "text/plain": [
       "    grade         price\n",
       "0       1  1.420000e+05\n",
       "1       3  2.056667e+05\n",
       "2       4  2.143810e+05\n",
       "3       5  2.485240e+05\n",
       "4       6  3.019196e+05\n",
       "5       7  4.025903e+05\n",
       "6       8  5.428528e+05\n",
       "7       9  7.735132e+05\n",
       "8      10  1.071771e+06\n",
       "9      11  1.496842e+06\n",
       "10     12  2.191222e+06\n",
       "11     13  3.709615e+06"
      ]
     },
     "execution_count": 21,
     "metadata": {},
     "output_type": "execute_result"
    },
    {
     "data": {
      "image/png": "[encoded data removed]",
      "text/plain": [
       "<Figure size 1080x504 with 1 Axes>"
      ]
     },
     "metadata": {
      "needs_background": "light"
     },
     "output_type": "display_data"
    }
   ],
   "source": [
    "tmp = df.groupby('grade')['price'].mean().reset_index()\n",
    "plt.figure(figsize = (15, 7))\n",
    "plt.title('Зависимость средней цены от класса здания')\n",
    "sns.barplot(x=tmp['grade'],y=tmp['price'])\n",
    "plt.xlabel('Класс')\n",
    "plt.ylabel('Средняя цена')\n",
    "tmp"
   ]
  },
  {
   "cell_type": "markdown",
   "id": "81a43b01",
   "metadata": {},
   "source": [
    "*В данном случае всё вполне закномерно - чем выше класс зданиё, тем выше средняя стоимость. Причём наблюдается не линейная, а экспоненциальная зависимость.*"
   ]
  },
  {
   "cell_type": "markdown",
   "id": "845458bd",
   "metadata": {},
   "source": [
    "***Общий вывод***"
   ]
  },
  {
   "cell_type": "markdown",
   "id": "2ed3a793",
   "metadata": {},
   "source": [
    "*Стоимость жилья формируется исходя из множества факторов, каждый из которых вносит свой вклад. В данном анализе можно однозначно сказать, что на среднюю стоимость влияет класс жилья. По другим выбранным параметрам это утверждать сложно. При этом можно провести подобный анализ в отношении класса и, скорее всего, получится, что класс более зависим от квадратуры, возраста, количества спален и т.д. И, в свою очередь, именно класс формирует стоимость.*"
   ]
  },
  {
   "cell_type": "code",
   "execution_count": null,
   "id": "d5af62ab",
   "metadata": {},
   "outputs": [],
   "source": []
  }
 ],
 "metadata": {
  "kernelspec": {
   "display_name": "Python 3 (ipykernel)",
   "language": "python",
   "name": "python3"
  },
  "language_info": {
   "codemirror_mode": {
    "name": "ipython",
    "version": 3
   },
   "file_extension": ".py",
   "mimetype": "text/x-python",
   "name": "python",
   "nbconvert_exporter": "python",
   "pygments_lexer": "ipython3",
   "version": "3.9.12"
  }
 },
 "nbformat": 4,
 "nbformat_minor": 5
}
