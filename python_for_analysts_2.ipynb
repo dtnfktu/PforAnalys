{
 "cells": [
  {
   "cell_type": "markdown",
   "id": "f92036a1",
   "metadata": {},
   "source": [
    "# Урок 2. Анализ датасета с помощью Pandas"
   ]
  },
  {
   "cell_type": "markdown",
   "id": "aa15f221",
   "metadata": {},
   "source": [
    "## Задача 1: "
   ]
  },
  {
   "cell_type": "markdown",
   "id": "ace216a3",
   "metadata": {},
   "source": [
    "**Задание 1**\n",
    "*Скачать данные по ссылке https://www.kaggle.com/datasets/esratmaria/house-price-dataset-with-other-information\n",
    "Считать данные с помощью pandas\n",
    "Вывести на экран первые 5 строк\n",
    "Посмотреть на описание признаков и на их содержание*"
   ]
  },
  {
   "cell_type": "markdown",
   "id": "f65f5c35",
   "metadata": {},
   "source": [
    "**Решение**"
   ]
  },
  {
   "cell_type": "markdown",
   "id": "a3e19edb",
   "metadata": {},
   "source": [
    "*По заданной ссылке скачан файл kc_house_data.csv*"
   ]
  },
  {
   "cell_type": "markdown",
   "id": "f33600cb",
   "metadata": {},
   "source": [
    "*Подключаем pandas и задаём директорию (выполнение в ОС Ubuntu), содержащую файл с данными:*"
   ]
  },
  {
   "cell_type": "code",
   "execution_count": 3,
   "id": "b2e904f6",
   "metadata": {},
   "outputs": [],
   "source": [
    "import pandas as pd\n",
    "dir = \"~/Рабочий стол/GeekBrains/Python for analysts/PforAnalys\""
   ]
  },
  {
   "cell_type": "markdown",
   "id": "d54e5457",
   "metadata": {},
   "source": [
    "*Считываем данные из файла с помощью pandas:*"
   ]
  },
  {
   "cell_type": "code",
   "execution_count": 4,
   "id": "281f85f2",
   "metadata": {},
   "outputs": [],
   "source": [
    "df = pd.read_csv(dir + \"/kc_house_data.csv\")"
   ]
  },
  {
   "cell_type": "markdown",
   "id": "ee67812c",
   "metadata": {},
   "source": [
    "*Выводим первые 5 строк файла:*"
   ]
  },
  {
   "cell_type": "code",
   "execution_count": 10,
   "id": "e4a19a77",
   "metadata": {},
   "outputs": [
    {
     "data": {
      "text/html": [
       "<div>\n",
       "<style scoped>\n",
       "    .dataframe tbody tr th:only-of-type {\n",
       "        vertical-align: middle;\n",
       "    }\n",
       "\n",
       "    .dataframe tbody tr th {\n",
       "        vertical-align: top;\n",
       "    }\n",
       "\n",
       "    .dataframe thead th {\n",
       "        text-align: right;\n",
       "    }\n",
       "</style>\n",
       "<table border=\"1\" class=\"dataframe\">\n",
       "  <thead>\n",
       "    <tr style=\"text-align: right;\">\n",
       "      <th></th>\n",
       "      <th>id</th>\n",
       "      <th>date</th>\n",
       "      <th>price</th>\n",
       "      <th>bedrooms</th>\n",
       "      <th>bathrooms</th>\n",
       "      <th>sqft_living</th>\n",
       "      <th>sqft_lot</th>\n",
       "      <th>floors</th>\n",
       "      <th>waterfront</th>\n",
       "      <th>view</th>\n",
       "      <th>...</th>\n",
       "      <th>grade</th>\n",
       "      <th>sqft_above</th>\n",
       "      <th>sqft_basement</th>\n",
       "      <th>yr_built</th>\n",
       "      <th>yr_renovated</th>\n",
       "      <th>zipcode</th>\n",
       "      <th>lat</th>\n",
       "      <th>long</th>\n",
       "      <th>sqft_living15</th>\n",
       "      <th>sqft_lot15</th>\n",
       "    </tr>\n",
       "  </thead>\n",
       "  <tbody>\n",
       "    <tr>\n",
       "      <th>0</th>\n",
       "      <td>7129300520</td>\n",
       "      <td>20141013T000000</td>\n",
       "      <td>221900.0</td>\n",
       "      <td>3</td>\n",
       "      <td>1.00</td>\n",
       "      <td>1180</td>\n",
       "      <td>5650</td>\n",
       "      <td>1.0</td>\n",
       "      <td>0</td>\n",
       "      <td>0</td>\n",
       "      <td>...</td>\n",
       "      <td>7</td>\n",
       "      <td>1180</td>\n",
       "      <td>0</td>\n",
       "      <td>1955</td>\n",
       "      <td>0</td>\n",
       "      <td>98178</td>\n",
       "      <td>47.5112</td>\n",
       "      <td>-122.257</td>\n",
       "      <td>1340</td>\n",
       "      <td>5650</td>\n",
       "    </tr>\n",
       "    <tr>\n",
       "      <th>1</th>\n",
       "      <td>6414100192</td>\n",
       "      <td>20141209T000000</td>\n",
       "      <td>538000.0</td>\n",
       "      <td>3</td>\n",
       "      <td>2.25</td>\n",
       "      <td>2570</td>\n",
       "      <td>7242</td>\n",
       "      <td>2.0</td>\n",
       "      <td>0</td>\n",
       "      <td>0</td>\n",
       "      <td>...</td>\n",
       "      <td>7</td>\n",
       "      <td>2170</td>\n",
       "      <td>400</td>\n",
       "      <td>1951</td>\n",
       "      <td>1991</td>\n",
       "      <td>98125</td>\n",
       "      <td>47.7210</td>\n",
       "      <td>-122.319</td>\n",
       "      <td>1690</td>\n",
       "      <td>7639</td>\n",
       "    </tr>\n",
       "    <tr>\n",
       "      <th>2</th>\n",
       "      <td>5631500400</td>\n",
       "      <td>20150225T000000</td>\n",
       "      <td>180000.0</td>\n",
       "      <td>2</td>\n",
       "      <td>1.00</td>\n",
       "      <td>770</td>\n",
       "      <td>10000</td>\n",
       "      <td>1.0</td>\n",
       "      <td>0</td>\n",
       "      <td>0</td>\n",
       "      <td>...</td>\n",
       "      <td>6</td>\n",
       "      <td>770</td>\n",
       "      <td>0</td>\n",
       "      <td>1933</td>\n",
       "      <td>0</td>\n",
       "      <td>98028</td>\n",
       "      <td>47.7379</td>\n",
       "      <td>-122.233</td>\n",
       "      <td>2720</td>\n",
       "      <td>8062</td>\n",
       "    </tr>\n",
       "    <tr>\n",
       "      <th>3</th>\n",
       "      <td>2487200875</td>\n",
       "      <td>20141209T000000</td>\n",
       "      <td>604000.0</td>\n",
       "      <td>4</td>\n",
       "      <td>3.00</td>\n",
       "      <td>1960</td>\n",
       "      <td>5000</td>\n",
       "      <td>1.0</td>\n",
       "      <td>0</td>\n",
       "      <td>0</td>\n",
       "      <td>...</td>\n",
       "      <td>7</td>\n",
       "      <td>1050</td>\n",
       "      <td>910</td>\n",
       "      <td>1965</td>\n",
       "      <td>0</td>\n",
       "      <td>98136</td>\n",
       "      <td>47.5208</td>\n",
       "      <td>-122.393</td>\n",
       "      <td>1360</td>\n",
       "      <td>5000</td>\n",
       "    </tr>\n",
       "    <tr>\n",
       "      <th>4</th>\n",
       "      <td>1954400510</td>\n",
       "      <td>20150218T000000</td>\n",
       "      <td>510000.0</td>\n",
       "      <td>3</td>\n",
       "      <td>2.00</td>\n",
       "      <td>1680</td>\n",
       "      <td>8080</td>\n",
       "      <td>1.0</td>\n",
       "      <td>0</td>\n",
       "      <td>0</td>\n",
       "      <td>...</td>\n",
       "      <td>8</td>\n",
       "      <td>1680</td>\n",
       "      <td>0</td>\n",
       "      <td>1987</td>\n",
       "      <td>0</td>\n",
       "      <td>98074</td>\n",
       "      <td>47.6168</td>\n",
       "      <td>-122.045</td>\n",
       "      <td>1800</td>\n",
       "      <td>7503</td>\n",
       "    </tr>\n",
       "  </tbody>\n",
       "</table>\n",
       "<p>5 rows × 21 columns</p>\n",
       "</div>"
      ],
      "text/plain": [
       "           id             date     price  bedrooms  bathrooms  sqft_living  \\\n",
       "0  7129300520  20141013T000000  221900.0         3       1.00         1180   \n",
       "1  6414100192  20141209T000000  538000.0         3       2.25         2570   \n",
       "2  5631500400  20150225T000000  180000.0         2       1.00          770   \n",
       "3  2487200875  20141209T000000  604000.0         4       3.00         1960   \n",
       "4  1954400510  20150218T000000  510000.0         3       2.00         1680   \n",
       "\n",
       "   sqft_lot  floors  waterfront  view  ...  grade  sqft_above  sqft_basement  \\\n",
       "0      5650     1.0           0     0  ...      7        1180              0   \n",
       "1      7242     2.0           0     0  ...      7        2170            400   \n",
       "2     10000     1.0           0     0  ...      6         770              0   \n",
       "3      5000     1.0           0     0  ...      7        1050            910   \n",
       "4      8080     1.0           0     0  ...      8        1680              0   \n",
       "\n",
       "   yr_built  yr_renovated  zipcode      lat     long  sqft_living15  \\\n",
       "0      1955             0    98178  47.5112 -122.257           1340   \n",
       "1      1951          1991    98125  47.7210 -122.319           1690   \n",
       "2      1933             0    98028  47.7379 -122.233           2720   \n",
       "3      1965             0    98136  47.5208 -122.393           1360   \n",
       "4      1987             0    98074  47.6168 -122.045           1800   \n",
       "\n",
       "   sqft_lot15  \n",
       "0        5650  \n",
       "1        7639  \n",
       "2        8062  \n",
       "3        5000  \n",
       "4        7503  \n",
       "\n",
       "[5 rows x 21 columns]"
      ]
     },
     "execution_count": 10,
     "metadata": {},
     "output_type": "execute_result"
    }
   ],
   "source": [
    "df.head()"
   ]
  },
  {
   "cell_type": "markdown",
   "id": "112290f2",
   "metadata": {},
   "source": [
    "*По содержимому видно, что каждая строка содержит данные по квартире: стоимость, квадратные метры и т.д. Всего 21 параметр*"
   ]
  },
  {
   "cell_type": "markdown",
   "id": "8b42d571",
   "metadata": {},
   "source": [
    "## Задача 2"
   ]
  },
  {
   "cell_type": "markdown",
   "id": "d77c8b60",
   "metadata": {},
   "source": [
    "**Задача 1**"
   ]
  },
  {
   "cell_type": "markdown",
   "id": "0d17b5b9",
   "metadata": {},
   "source": [
    "*Проведите первичный анализ данных  \n",
    "Изучите типы данных  \n",
    "Найдите количество пропущенных ячеек в данных  \n",
    "Посчитайте основные статистики по всем признакам и поизучайте их  \n",
    "Пишите выводы*"
   ]
  },
  {
   "cell_type": "markdown",
   "id": "57182c07",
   "metadata": {},
   "source": [
    "***Смотрим общую информацию по датафрейму:***"
   ]
  },
  {
   "cell_type": "code",
   "execution_count": 11,
   "id": "b0232c26",
   "metadata": {},
   "outputs": [
    {
     "name": "stdout",
     "output_type": "stream",
     "text": [
      "<class 'pandas.core.frame.DataFrame'>\n",
      "RangeIndex: 21613 entries, 0 to 21612\n",
      "Data columns (total 21 columns):\n",
      " #   Column         Non-Null Count  Dtype  \n",
      "---  ------         --------------  -----  \n",
      " 0   id             21613 non-null  int64  \n",
      " 1   date           21613 non-null  object \n",
      " 2   price          21613 non-null  float64\n",
      " 3   bedrooms       21613 non-null  int64  \n",
      " 4   bathrooms      21613 non-null  float64\n",
      " 5   sqft_living    21613 non-null  int64  \n",
      " 6   sqft_lot       21613 non-null  int64  \n",
      " 7   floors         21613 non-null  float64\n",
      " 8   waterfront     21613 non-null  int64  \n",
      " 9   view           21613 non-null  int64  \n",
      " 10  condition      21613 non-null  int64  \n",
      " 11  grade          21613 non-null  int64  \n",
      " 12  sqft_above     21613 non-null  int64  \n",
      " 13  sqft_basement  21613 non-null  int64  \n",
      " 14  yr_built       21613 non-null  int64  \n",
      " 15  yr_renovated   21613 non-null  int64  \n",
      " 16  zipcode        21613 non-null  int64  \n",
      " 17  lat            21613 non-null  float64\n",
      " 18  long           21613 non-null  float64\n",
      " 19  sqft_living15  21613 non-null  int64  \n",
      " 20  sqft_lot15     21613 non-null  int64  \n",
      "dtypes: float64(5), int64(15), object(1)\n",
      "memory usage: 3.5+ MB\n"
     ]
    }
   ],
   "source": [
    "df.info()"
   ]
  },
  {
   "cell_type": "markdown",
   "id": "d0d708b4",
   "metadata": {},
   "source": [
    "*Используемые типы данных: 5 полей вещественного типа, 15 полей целочисленного, 1 поле как object - дата*"
   ]
  },
  {
   "cell_type": "markdown",
   "id": "3c2b6652",
   "metadata": {},
   "source": [
    "***Количество пустых ячеек:***"
   ]
  },
  {
   "cell_type": "code",
   "execution_count": 12,
   "id": "56df3057",
   "metadata": {},
   "outputs": [
    {
     "data": {
      "text/plain": [
       "0"
      ]
     },
     "execution_count": 12,
     "metadata": {},
     "output_type": "execute_result"
    }
   ],
   "source": [
    "df.isnull().sum().sum()"
   ]
  },
  {
   "cell_type": "markdown",
   "id": "58281af3",
   "metadata": {},
   "source": [
    "*Хотя то, что пропущенных ячеек нет, видно из предыдущего шага*"
   ]
  },
  {
   "cell_type": "markdown",
   "id": "c26bc341",
   "metadata": {},
   "source": [
    "***Основные статистические характеристики:***"
   ]
  },
  {
   "cell_type": "code",
   "execution_count": 13,
   "id": "65f09cef",
   "metadata": {},
   "outputs": [
    {
     "data": {
      "text/html": [
       "<div>\n",
       "<style scoped>\n",
       "    .dataframe tbody tr th:only-of-type {\n",
       "        vertical-align: middle;\n",
       "    }\n",
       "\n",
       "    .dataframe tbody tr th {\n",
       "        vertical-align: top;\n",
       "    }\n",
       "\n",
       "    .dataframe thead th {\n",
       "        text-align: right;\n",
       "    }\n",
       "</style>\n",
       "<table border=\"1\" class=\"dataframe\">\n",
       "  <thead>\n",
       "    <tr style=\"text-align: right;\">\n",
       "      <th></th>\n",
       "      <th>id</th>\n",
       "      <th>price</th>\n",
       "      <th>bedrooms</th>\n",
       "      <th>bathrooms</th>\n",
       "      <th>sqft_living</th>\n",
       "      <th>sqft_lot</th>\n",
       "      <th>floors</th>\n",
       "      <th>waterfront</th>\n",
       "      <th>view</th>\n",
       "      <th>condition</th>\n",
       "      <th>grade</th>\n",
       "      <th>sqft_above</th>\n",
       "      <th>sqft_basement</th>\n",
       "      <th>yr_built</th>\n",
       "      <th>yr_renovated</th>\n",
       "      <th>zipcode</th>\n",
       "      <th>lat</th>\n",
       "      <th>long</th>\n",
       "      <th>sqft_living15</th>\n",
       "      <th>sqft_lot15</th>\n",
       "    </tr>\n",
       "  </thead>\n",
       "  <tbody>\n",
       "    <tr>\n",
       "      <th>count</th>\n",
       "      <td>2.161300e+04</td>\n",
       "      <td>2.161300e+04</td>\n",
       "      <td>21613.000000</td>\n",
       "      <td>21613.000000</td>\n",
       "      <td>21613.000000</td>\n",
       "      <td>2.161300e+04</td>\n",
       "      <td>21613.000000</td>\n",
       "      <td>21613.000000</td>\n",
       "      <td>21613.000000</td>\n",
       "      <td>21613.000000</td>\n",
       "      <td>21613.000000</td>\n",
       "      <td>21613.000000</td>\n",
       "      <td>21613.000000</td>\n",
       "      <td>21613.000000</td>\n",
       "      <td>21613.000000</td>\n",
       "      <td>21613.000000</td>\n",
       "      <td>21613.000000</td>\n",
       "      <td>21613.000000</td>\n",
       "      <td>21613.000000</td>\n",
       "      <td>21613.000000</td>\n",
       "    </tr>\n",
       "    <tr>\n",
       "      <th>mean</th>\n",
       "      <td>4.580302e+09</td>\n",
       "      <td>5.400881e+05</td>\n",
       "      <td>3.370842</td>\n",
       "      <td>2.114757</td>\n",
       "      <td>2079.899736</td>\n",
       "      <td>1.510697e+04</td>\n",
       "      <td>1.494309</td>\n",
       "      <td>0.007542</td>\n",
       "      <td>0.234303</td>\n",
       "      <td>3.409430</td>\n",
       "      <td>7.656873</td>\n",
       "      <td>1788.390691</td>\n",
       "      <td>291.509045</td>\n",
       "      <td>1971.005136</td>\n",
       "      <td>84.402258</td>\n",
       "      <td>98077.939805</td>\n",
       "      <td>47.560053</td>\n",
       "      <td>-122.213896</td>\n",
       "      <td>1986.552492</td>\n",
       "      <td>12768.455652</td>\n",
       "    </tr>\n",
       "    <tr>\n",
       "      <th>std</th>\n",
       "      <td>2.876566e+09</td>\n",
       "      <td>3.671272e+05</td>\n",
       "      <td>0.930062</td>\n",
       "      <td>0.770163</td>\n",
       "      <td>918.440897</td>\n",
       "      <td>4.142051e+04</td>\n",
       "      <td>0.539989</td>\n",
       "      <td>0.086517</td>\n",
       "      <td>0.766318</td>\n",
       "      <td>0.650743</td>\n",
       "      <td>1.175459</td>\n",
       "      <td>828.090978</td>\n",
       "      <td>442.575043</td>\n",
       "      <td>29.373411</td>\n",
       "      <td>401.679240</td>\n",
       "      <td>53.505026</td>\n",
       "      <td>0.138564</td>\n",
       "      <td>0.140828</td>\n",
       "      <td>685.391304</td>\n",
       "      <td>27304.179631</td>\n",
       "    </tr>\n",
       "    <tr>\n",
       "      <th>min</th>\n",
       "      <td>1.000102e+06</td>\n",
       "      <td>7.500000e+04</td>\n",
       "      <td>0.000000</td>\n",
       "      <td>0.000000</td>\n",
       "      <td>290.000000</td>\n",
       "      <td>5.200000e+02</td>\n",
       "      <td>1.000000</td>\n",
       "      <td>0.000000</td>\n",
       "      <td>0.000000</td>\n",
       "      <td>1.000000</td>\n",
       "      <td>1.000000</td>\n",
       "      <td>290.000000</td>\n",
       "      <td>0.000000</td>\n",
       "      <td>1900.000000</td>\n",
       "      <td>0.000000</td>\n",
       "      <td>98001.000000</td>\n",
       "      <td>47.155900</td>\n",
       "      <td>-122.519000</td>\n",
       "      <td>399.000000</td>\n",
       "      <td>651.000000</td>\n",
       "    </tr>\n",
       "    <tr>\n",
       "      <th>25%</th>\n",
       "      <td>2.123049e+09</td>\n",
       "      <td>3.219500e+05</td>\n",
       "      <td>3.000000</td>\n",
       "      <td>1.750000</td>\n",
       "      <td>1427.000000</td>\n",
       "      <td>5.040000e+03</td>\n",
       "      <td>1.000000</td>\n",
       "      <td>0.000000</td>\n",
       "      <td>0.000000</td>\n",
       "      <td>3.000000</td>\n",
       "      <td>7.000000</td>\n",
       "      <td>1190.000000</td>\n",
       "      <td>0.000000</td>\n",
       "      <td>1951.000000</td>\n",
       "      <td>0.000000</td>\n",
       "      <td>98033.000000</td>\n",
       "      <td>47.471000</td>\n",
       "      <td>-122.328000</td>\n",
       "      <td>1490.000000</td>\n",
       "      <td>5100.000000</td>\n",
       "    </tr>\n",
       "    <tr>\n",
       "      <th>50%</th>\n",
       "      <td>3.904930e+09</td>\n",
       "      <td>4.500000e+05</td>\n",
       "      <td>3.000000</td>\n",
       "      <td>2.250000</td>\n",
       "      <td>1910.000000</td>\n",
       "      <td>7.618000e+03</td>\n",
       "      <td>1.500000</td>\n",
       "      <td>0.000000</td>\n",
       "      <td>0.000000</td>\n",
       "      <td>3.000000</td>\n",
       "      <td>7.000000</td>\n",
       "      <td>1560.000000</td>\n",
       "      <td>0.000000</td>\n",
       "      <td>1975.000000</td>\n",
       "      <td>0.000000</td>\n",
       "      <td>98065.000000</td>\n",
       "      <td>47.571800</td>\n",
       "      <td>-122.230000</td>\n",
       "      <td>1840.000000</td>\n",
       "      <td>7620.000000</td>\n",
       "    </tr>\n",
       "    <tr>\n",
       "      <th>75%</th>\n",
       "      <td>7.308900e+09</td>\n",
       "      <td>6.450000e+05</td>\n",
       "      <td>4.000000</td>\n",
       "      <td>2.500000</td>\n",
       "      <td>2550.000000</td>\n",
       "      <td>1.068800e+04</td>\n",
       "      <td>2.000000</td>\n",
       "      <td>0.000000</td>\n",
       "      <td>0.000000</td>\n",
       "      <td>4.000000</td>\n",
       "      <td>8.000000</td>\n",
       "      <td>2210.000000</td>\n",
       "      <td>560.000000</td>\n",
       "      <td>1997.000000</td>\n",
       "      <td>0.000000</td>\n",
       "      <td>98118.000000</td>\n",
       "      <td>47.678000</td>\n",
       "      <td>-122.125000</td>\n",
       "      <td>2360.000000</td>\n",
       "      <td>10083.000000</td>\n",
       "    </tr>\n",
       "    <tr>\n",
       "      <th>max</th>\n",
       "      <td>9.900000e+09</td>\n",
       "      <td>7.700000e+06</td>\n",
       "      <td>33.000000</td>\n",
       "      <td>8.000000</td>\n",
       "      <td>13540.000000</td>\n",
       "      <td>1.651359e+06</td>\n",
       "      <td>3.500000</td>\n",
       "      <td>1.000000</td>\n",
       "      <td>4.000000</td>\n",
       "      <td>5.000000</td>\n",
       "      <td>13.000000</td>\n",
       "      <td>9410.000000</td>\n",
       "      <td>4820.000000</td>\n",
       "      <td>2015.000000</td>\n",
       "      <td>2015.000000</td>\n",
       "      <td>98199.000000</td>\n",
       "      <td>47.777600</td>\n",
       "      <td>-121.315000</td>\n",
       "      <td>6210.000000</td>\n",
       "      <td>871200.000000</td>\n",
       "    </tr>\n",
       "  </tbody>\n",
       "</table>\n",
       "</div>"
      ],
      "text/plain": [
       "                 id         price      bedrooms     bathrooms   sqft_living  \\\n",
       "count  2.161300e+04  2.161300e+04  21613.000000  21613.000000  21613.000000   \n",
       "mean   4.580302e+09  5.400881e+05      3.370842      2.114757   2079.899736   \n",
       "std    2.876566e+09  3.671272e+05      0.930062      0.770163    918.440897   \n",
       "min    1.000102e+06  7.500000e+04      0.000000      0.000000    290.000000   \n",
       "25%    2.123049e+09  3.219500e+05      3.000000      1.750000   1427.000000   \n",
       "50%    3.904930e+09  4.500000e+05      3.000000      2.250000   1910.000000   \n",
       "75%    7.308900e+09  6.450000e+05      4.000000      2.500000   2550.000000   \n",
       "max    9.900000e+09  7.700000e+06     33.000000      8.000000  13540.000000   \n",
       "\n",
       "           sqft_lot        floors    waterfront          view     condition  \\\n",
       "count  2.161300e+04  21613.000000  21613.000000  21613.000000  21613.000000   \n",
       "mean   1.510697e+04      1.494309      0.007542      0.234303      3.409430   \n",
       "std    4.142051e+04      0.539989      0.086517      0.766318      0.650743   \n",
       "min    5.200000e+02      1.000000      0.000000      0.000000      1.000000   \n",
       "25%    5.040000e+03      1.000000      0.000000      0.000000      3.000000   \n",
       "50%    7.618000e+03      1.500000      0.000000      0.000000      3.000000   \n",
       "75%    1.068800e+04      2.000000      0.000000      0.000000      4.000000   \n",
       "max    1.651359e+06      3.500000      1.000000      4.000000      5.000000   \n",
       "\n",
       "              grade    sqft_above  sqft_basement      yr_built  yr_renovated  \\\n",
       "count  21613.000000  21613.000000   21613.000000  21613.000000  21613.000000   \n",
       "mean       7.656873   1788.390691     291.509045   1971.005136     84.402258   \n",
       "std        1.175459    828.090978     442.575043     29.373411    401.679240   \n",
       "min        1.000000    290.000000       0.000000   1900.000000      0.000000   \n",
       "25%        7.000000   1190.000000       0.000000   1951.000000      0.000000   \n",
       "50%        7.000000   1560.000000       0.000000   1975.000000      0.000000   \n",
       "75%        8.000000   2210.000000     560.000000   1997.000000      0.000000   \n",
       "max       13.000000   9410.000000    4820.000000   2015.000000   2015.000000   \n",
       "\n",
       "            zipcode           lat          long  sqft_living15     sqft_lot15  \n",
       "count  21613.000000  21613.000000  21613.000000   21613.000000   21613.000000  \n",
       "mean   98077.939805     47.560053   -122.213896    1986.552492   12768.455652  \n",
       "std       53.505026      0.138564      0.140828     685.391304   27304.179631  \n",
       "min    98001.000000     47.155900   -122.519000     399.000000     651.000000  \n",
       "25%    98033.000000     47.471000   -122.328000    1490.000000    5100.000000  \n",
       "50%    98065.000000     47.571800   -122.230000    1840.000000    7620.000000  \n",
       "75%    98118.000000     47.678000   -122.125000    2360.000000   10083.000000  \n",
       "max    98199.000000     47.777600   -121.315000    6210.000000  871200.000000  "
      ]
     },
     "execution_count": 13,
     "metadata": {},
     "output_type": "execute_result"
    }
   ],
   "source": [
    "df.describe()"
   ]
  },
  {
   "cell_type": "markdown",
   "id": "ce08d36a",
   "metadata": {},
   "source": [
    "***Выводы:***"
   ]
  },
  {
   "cell_type": "markdown",
   "id": "29e80d0b",
   "metadata": {},
   "source": [
    "*С помощью библиотеки pandas в одну строку можно считать csv-файл. При этом происходит автоопределение типов данных, правда это касается числовых типов - все остальные определяются как object, которые можно самостоятельно переопределить при необходимости. Функция info() показывает структуру датафрейма: количество столбцов, строк, типыданных ячеек, количество пустых ячеек, общий объём загруженных данных*"
   ]
  },
  {
   "cell_type": "markdown",
   "id": "b4953646",
   "metadata": {},
   "source": [
    "## Задача 3"
   ]
  },
  {
   "cell_type": "markdown",
   "id": "4bd8d79b",
   "metadata": {},
   "source": [
    "**Ответьте на несколько вопросов**"
   ]
  },
  {
   "cell_type": "markdown",
   "id": "973c4208",
   "metadata": {},
   "source": [
    "*В каком диапазоне изменяются стоимости недвижимости?*"
   ]
  },
  {
   "cell_type": "markdown",
   "id": "d6beb049",
   "metadata": {},
   "source": [
    "**Находим минимальное значение цены:**"
   ]
  },
  {
   "cell_type": "code",
   "execution_count": 14,
   "id": "fc6dbf3e",
   "metadata": {},
   "outputs": [
    {
     "data": {
      "text/plain": [
       "75000.0"
      ]
     },
     "execution_count": 14,
     "metadata": {},
     "output_type": "execute_result"
    }
   ],
   "source": [
    "df['price'].min()"
   ]
  },
  {
   "cell_type": "markdown",
   "id": "283c2a89",
   "metadata": {},
   "source": [
    "**Находим максимальное значение цены:**"
   ]
  },
  {
   "cell_type": "code",
   "execution_count": 15,
   "id": "891542fb",
   "metadata": {},
   "outputs": [
    {
     "data": {
      "text/plain": [
       "7700000.0"
      ]
     },
     "execution_count": 15,
     "metadata": {},
     "output_type": "execute_result"
    }
   ],
   "source": [
    "df['price'].max()"
   ]
  },
  {
   "cell_type": "markdown",
   "id": "2285afbd",
   "metadata": {},
   "source": [
    "### -------------------------------------------------------------"
   ]
  },
  {
   "cell_type": "markdown",
   "id": "007fdd44",
   "metadata": {},
   "source": [
    "*Какую долю в среднем занимают жилая площадь от всей площади по всем домам?*"
   ]
  },
  {
   "cell_type": "markdown",
   "id": "f800a37c",
   "metadata": {},
   "source": [
    "**Ответ:**"
   ]
  },
  {
   "cell_type": "markdown",
   "id": "ec6b2b57",
   "metadata": {},
   "source": [
    "*Здесь sqft_living - жилая площадь, sqft_lot - общая площадь. Для ответа на вопрос необходимо найти отношение среднего значения жилой площади к среднему значению общей площади:*"
   ]
  },
  {
   "cell_type": "code",
   "execution_count": 16,
   "id": "e4a66a66",
   "metadata": {},
   "outputs": [
    {
     "data": {
      "text/plain": [
       "0.1376781757959227"
      ]
     },
     "execution_count": 16,
     "metadata": {},
     "output_type": "execute_result"
    }
   ],
   "source": [
    "df['sqft_living'].mean() / df['sqft_lot'].mean()"
   ]
  },
  {
   "cell_type": "markdown",
   "id": "84d38fea",
   "metadata": {},
   "source": [
    "### -------------------------------------------------------------"
   ]
  },
  {
   "cell_type": "markdown",
   "id": "11264cd2",
   "metadata": {},
   "source": [
    "*Как много домов с разными этажами в данных?*"
   ]
  },
  {
   "cell_type": "markdown",
   "id": "f226fd72",
   "metadata": {},
   "source": [
    "**Ответ:**"
   ]
  },
  {
   "cell_type": "markdown",
   "id": "9a766803",
   "metadata": {},
   "source": [
    "*Здесь используем поле floors (этажи)*"
   ]
  },
  {
   "cell_type": "code",
   "execution_count": 17,
   "id": "cf9381fb",
   "metadata": {},
   "outputs": [
    {
     "data": {
      "text/plain": [
       "1.0    10680\n",
       "2.0     8241\n",
       "1.5     1910\n",
       "3.0      613\n",
       "2.5      161\n",
       "3.5        8\n",
       "Name: floors, dtype: int64"
      ]
     },
     "execution_count": 17,
     "metadata": {},
     "output_type": "execute_result"
    }
   ],
   "source": [
    "df['floors'].value_counts()"
   ]
  },
  {
   "cell_type": "markdown",
   "id": "bb92be23",
   "metadata": {},
   "source": [
    "*И видим статистику по этажности и количеству: одноэтажных домов - 10680, двухэтажных - 8241 и т.д.*  \n",
    "*Раньше не встречался с полутораэтажными строениями, поэтому загуглил.* ***1.5-этажный дом – это строение, в котором высота наружных стен выше уровня первого этажа, но не дотягивает до полноценной высоты наружных стен второго этажа.*** *По аналогии - с этажностью домов 2,5 и 3,5*"
   ]
  },
  {
   "cell_type": "markdown",
   "id": "a0b4f545",
   "metadata": {},
   "source": [
    "### -------------------------------------------------------------"
   ]
  },
  {
   "cell_type": "markdown",
   "id": "fda31f9a",
   "metadata": {},
   "source": [
    "*Насколько хорошие состояния у домов в данных?*"
   ]
  },
  {
   "cell_type": "markdown",
   "id": "496d059f",
   "metadata": {},
   "source": [
    "**Ответ:**"
   ]
  },
  {
   "cell_type": "markdown",
   "id": "326676bb",
   "metadata": {},
   "source": [
    "*Работаем с полем condition:*"
   ]
  },
  {
   "cell_type": "markdown",
   "id": "7cfe7574",
   "metadata": {},
   "source": [
    "*Мнимальное значение состояние, встречаемое в данных - 1, максимальное - 5. Т.е. состояние оценивается по пятибальной системе. Находим среднее значение поля condition:*"
   ]
  },
  {
   "cell_type": "code",
   "execution_count": 18,
   "id": "788b3088",
   "metadata": {},
   "outputs": [
    {
     "data": {
      "text/plain": [
       "3.4094295100171195"
      ]
     },
     "execution_count": 18,
     "metadata": {},
     "output_type": "execute_result"
    }
   ],
   "source": [
    "df['condition'].mean()"
   ]
  },
  {
   "cell_type": "markdown",
   "id": "480b2dc6",
   "metadata": {},
   "source": [
    "*Но не стоит усреднять состояние. Лучше выполнить более детальную выборку:*"
   ]
  },
  {
   "cell_type": "code",
   "execution_count": 20,
   "id": "f9d2ecf4",
   "metadata": {},
   "outputs": [
    {
     "data": {
      "text/plain": [
       "3    0.649193\n",
       "4    0.262759\n",
       "5    0.078703\n",
       "2    0.007958\n",
       "1    0.001388\n",
       "Name: condition, dtype: float64"
      ]
     },
     "execution_count": 20,
     "metadata": {},
     "output_type": "execute_result"
    }
   ],
   "source": [
    "df['condition'].value_counts(normalize = True)"
   ]
  },
  {
   "cell_type": "markdown",
   "id": "cdfd4382",
   "metadata": {},
   "source": [
    "*Получаем: 7,8% в отличном состоянии, 26,3% - в хорошем, 65% - в удовлетворительном, 0,8% в плохом состоянии, 0,1% в ужасном*"
   ]
  },
  {
   "cell_type": "markdown",
   "id": "274bcf15",
   "metadata": {},
   "source": [
    "### -------------------------------------------------------------"
   ]
  },
  {
   "cell_type": "markdown",
   "id": "947b8a1a",
   "metadata": {},
   "source": [
    "*Найдите года, когда построили первый дом, когда построили последний дом в данных?*"
   ]
  },
  {
   "cell_type": "markdown",
   "id": "7f701e51",
   "metadata": {},
   "source": [
    "**Ответ:**"
   ]
  },
  {
   "cell_type": "markdown",
   "id": "b342e422",
   "metadata": {},
   "source": [
    "*Работаем с полем date. В данный момент оно определено как object. Чтобы работать как с датой необходимо преобразовать тип данных данного поля*"
   ]
  },
  {
   "cell_type": "code",
   "execution_count": 24,
   "id": "25da18d8",
   "metadata": {},
   "outputs": [
    {
     "data": {
      "text/plain": [
       "dtype('O')"
      ]
     },
     "execution_count": 24,
     "metadata": {},
     "output_type": "execute_result"
    }
   ],
   "source": [
    "df['date'].dtype"
   ]
  },
  {
   "cell_type": "markdown",
   "id": "358620e0",
   "metadata": {},
   "source": [
    "*Да, тип данных не определён. Требуется преобразование*"
   ]
  },
  {
   "cell_type": "code",
   "execution_count": 25,
   "id": "bf0c608d",
   "metadata": {},
   "outputs": [],
   "source": [
    "df['date'] = pd.to_datetime(df['date'])"
   ]
  },
  {
   "cell_type": "markdown",
   "id": "d5676ed1",
   "metadata": {},
   "source": [
    "*И проверяем:*"
   ]
  },
  {
   "cell_type": "code",
   "execution_count": 26,
   "id": "2d14c084",
   "metadata": {},
   "outputs": [
    {
     "data": {
      "text/plain": [
       "dtype('<M8[ns]')"
      ]
     },
     "execution_count": 26,
     "metadata": {},
     "output_type": "execute_result"
    }
   ],
   "source": [
    "df['date'].dtype"
   ]
  },
  {
   "cell_type": "markdown",
   "id": "03b2a88d",
   "metadata": {},
   "source": [
    "*Первый дом был построен:*"
   ]
  },
  {
   "cell_type": "code",
   "execution_count": 28,
   "id": "f9f1d2e2",
   "metadata": {},
   "outputs": [
    {
     "data": {
      "text/plain": [
       "Timestamp('2014-05-02 00:00:00')"
      ]
     },
     "execution_count": 28,
     "metadata": {},
     "output_type": "execute_result"
    }
   ],
   "source": [
    "df['date'].min()"
   ]
  },
  {
   "cell_type": "markdown",
   "id": "ed900d58",
   "metadata": {},
   "source": [
    "*Т.е. первый дом из выборки данных был построен 2 мая 2014 года*"
   ]
  },
  {
   "cell_type": "markdown",
   "id": "8b5f42a0",
   "metadata": {},
   "source": [
    "*Последний дом был построен:*"
   ]
  },
  {
   "cell_type": "code",
   "execution_count": 29,
   "id": "29d75184",
   "metadata": {},
   "outputs": [
    {
     "data": {
      "text/plain": [
       "Timestamp('2015-05-27 00:00:00')"
      ]
     },
     "execution_count": 29,
     "metadata": {},
     "output_type": "execute_result"
    }
   ],
   "source": [
    "df['date'].max()"
   ]
  },
  {
   "cell_type": "markdown",
   "id": "a5579cc6",
   "metadata": {},
   "source": [
    "*Последний дом из выборки данных был построен 27 мая 2015 года*"
   ]
  },
  {
   "cell_type": "markdown",
   "id": "7922232a",
   "metadata": {},
   "source": [
    "### -------------------------------------------------------------"
   ]
  },
  {
   "cell_type": "markdown",
   "id": "1ebb2721",
   "metadata": {},
   "source": [
    "## Задача 4"
   ]
  },
  {
   "cell_type": "markdown",
   "id": "2673dd55",
   "metadata": {},
   "source": [
    "**Ответьте на несколько вопросов**"
   ]
  },
  {
   "cell_type": "markdown",
   "id": "0ca7f775",
   "metadata": {},
   "source": [
    "*Сколько в среднем стоят дома, у которых 2 спальни?*"
   ]
  },
  {
   "cell_type": "markdown",
   "id": "26d000c1",
   "metadata": {},
   "source": [
    "**Ответ:**"
   ]
  },
  {
   "cell_type": "markdown",
   "id": "54e283e3",
   "metadata": {},
   "source": [
    "*Фильтруем выборку по полю bedrooms:*"
   ]
  },
  {
   "cell_type": "code",
   "execution_count": 9,
   "id": "769ec513",
   "metadata": {},
   "outputs": [],
   "source": [
    "bedrooms = df[df['bedrooms'] == 2]"
   ]
  },
  {
   "cell_type": "markdown",
   "id": "d37668f6",
   "metadata": {},
   "source": [
    "*И находим среднее значение поля price*"
   ]
  },
  {
   "cell_type": "code",
   "execution_count": 12,
   "id": "7389df92",
   "metadata": {},
   "outputs": [
    {
     "data": {
      "text/plain": [
       "401372.681884058"
      ]
     },
     "execution_count": 12,
     "metadata": {},
     "output_type": "execute_result"
    }
   ],
   "source": [
    "bedrooms['price'].mean()"
   ]
  },
  {
   "cell_type": "markdown",
   "id": "82d4c855",
   "metadata": {},
   "source": [
    "### ------------------------------------------------------------------------------------"
   ]
  },
  {
   "cell_type": "markdown",
   "id": "8e935162",
   "metadata": {},
   "source": [
    "*Какая в среднем общая площадь домов, у которых стоимость больше 600 000?*"
   ]
  },
  {
   "cell_type": "markdown",
   "id": "1ae10d9d",
   "metadata": {},
   "source": [
    "**Ответ:**"
   ]
  },
  {
   "cell_type": "markdown",
   "id": "40f1090c",
   "metadata": {},
   "source": [
    "*Фильтруем дома стоимостью выше 600 000*"
   ]
  },
  {
   "cell_type": "code",
   "execution_count": 19,
   "id": "21c33ef6",
   "metadata": {},
   "outputs": [],
   "source": [
    "houses = df[df['price'] > 600000]"
   ]
  },
  {
   "cell_type": "markdown",
   "id": "6b890ec1",
   "metadata": {},
   "source": [
    "*Находим усреднённую общую площадь (кв. футов):*"
   ]
  },
  {
   "cell_type": "code",
   "execution_count": 20,
   "id": "afa7a94a",
   "metadata": {},
   "outputs": [
    {
     "data": {
      "text/plain": [
       "20442.524776214832"
      ]
     },
     "execution_count": 20,
     "metadata": {},
     "output_type": "execute_result"
    }
   ],
   "source": [
    "houses['sqft_lot'].mean()"
   ]
  },
  {
   "cell_type": "markdown",
   "id": "886f3848",
   "metadata": {},
   "source": [
    "### ------------------------------------------------------------------------------------"
   ]
  },
  {
   "cell_type": "markdown",
   "id": "111327c6",
   "metadata": {},
   "source": [
    "*Как много домов коснулся ремонт?*"
   ]
  },
  {
   "cell_type": "markdown",
   "id": "0c66f9ec",
   "metadata": {},
   "source": [
    "**Ответ:**"
   ]
  },
  {
   "cell_type": "markdown",
   "id": "bf2f3034",
   "metadata": {},
   "source": [
    "*Смотрим поле yr_renovated - год ремонта. И отбираем дома, у которых год ремонта не равен нулю:*"
   ]
  },
  {
   "cell_type": "code",
   "execution_count": 15,
   "id": "a6ec977b",
   "metadata": {},
   "outputs": [],
   "source": [
    "houses = df[df['yr_renovated'] != 0]"
   ]
  },
  {
   "cell_type": "markdown",
   "id": "b096ee82",
   "metadata": {},
   "source": [
    "*И определяем их количество:*"
   ]
  },
  {
   "cell_type": "code",
   "execution_count": 16,
   "id": "d38477a1",
   "metadata": {},
   "outputs": [
    {
     "data": {
      "text/plain": [
       "914"
      ]
     },
     "execution_count": 16,
     "metadata": {},
     "output_type": "execute_result"
    }
   ],
   "source": [
    "houses['id'].count()"
   ]
  },
  {
   "cell_type": "markdown",
   "id": "b439993e",
   "metadata": {},
   "source": [
    "### ------------------------------------------------------------------------------------"
   ]
  },
  {
   "cell_type": "markdown",
   "id": "255e8141",
   "metadata": {},
   "source": [
    "*Насколько в среднем стоимость домов с оценкой grade домов выше 10 отличается от стоимости домов с оценкой grade меньше 4?*"
   ]
  },
  {
   "cell_type": "markdown",
   "id": "8a5ef1e9",
   "metadata": {},
   "source": [
    "**Ответ:**"
   ]
  },
  {
   "cell_type": "markdown",
   "id": "d9c84be9",
   "metadata": {},
   "source": [
    "*Фильтруем дом с классом (grade) выше 10 и с классом ниже 4 в два датафрейма:*"
   ]
  },
  {
   "cell_type": "code",
   "execution_count": 17,
   "id": "9e7c296d",
   "metadata": {},
   "outputs": [],
   "source": [
    "grade10 = df[df['grade'] > 10]\n",
    "grade4 = df[df['grade'] < 4]"
   ]
  },
  {
   "cell_type": "markdown",
   "id": "a3f5ebd4",
   "metadata": {},
   "source": [
    "*И находим разницу средних значений цены для двух категорий классов:*"
   ]
  },
  {
   "cell_type": "code",
   "execution_count": 18,
   "id": "b119b906",
   "metadata": {},
   "outputs": [
    {
     "data": {
      "text/plain": [
       "1488885.1175298805"
      ]
     },
     "execution_count": 18,
     "metadata": {},
     "output_type": "execute_result"
    }
   ],
   "source": [
    "grade10['price'].mean() - grade4['price'].mean()"
   ]
  },
  {
   "cell_type": "markdown",
   "id": "0cc7a3c7",
   "metadata": {},
   "source": [
    "## Задача 5"
   ]
  },
  {
   "cell_type": "markdown",
   "id": "5eb76fc4",
   "metadata": {},
   "source": [
    "*5.1 Выберите дом клиенту  \n",
    "Клиент хочет дом с видом на набережную, как минимум с тремя ванными и с подвалом. Сколько вариантов есть у клиента?*"
   ]
  },
  {
   "cell_type": "markdown",
   "id": "d65ec4c9",
   "metadata": {},
   "source": [
    "**Решение**"
   ]
  },
  {
   "cell_type": "markdown",
   "id": "ec1f2677",
   "metadata": {},
   "source": [
    "*Формируем выборку по трём условиям. Причём все три условия обязательны к выполнению, т.е. используем логическое И: \n",
    "waterfront (береговая линия) не равно нулю (т.е. присутствует), bathrooms равно трём, sqft_basement (площадь подвала) не равна нулю*"
   ]
  },
  {
   "cell_type": "code",
   "execution_count": 21,
   "id": "532a52e9",
   "metadata": {},
   "outputs": [],
   "source": [
    "houses = df[(df['waterfront'] == 1) & (df['bathrooms'] == 3) & (df['sqft_basement'] != 0)]"
   ]
  },
  {
   "cell_type": "code",
   "execution_count": 22,
   "id": "30d0e58b",
   "metadata": {},
   "outputs": [
    {
     "data": {
      "text/plain": [
       "5"
      ]
     },
     "execution_count": 22,
     "metadata": {},
     "output_type": "execute_result"
    }
   ],
   "source": [
    "houses['id'].count()"
   ]
  },
  {
   "cell_type": "markdown",
   "id": "9af31e7d",
   "metadata": {},
   "source": [
    "*У клиента 5 вариантов по указанным условиям*"
   ]
  },
  {
   "cell_type": "markdown",
   "id": "c30ddfb6",
   "metadata": {},
   "source": [
    "### ------------------------------------------------------------------------------------"
   ]
  },
  {
   "cell_type": "markdown",
   "id": "00c3fb23",
   "metadata": {},
   "source": [
    "*5.2 Выберите дом клиенту  \n",
    "Клиент хочет дом либо с очень красивым видом из окна, либо с видом на набережную, в очень хорошем состоянии и год постройки не меньше 1980 года. В каком ценовом диапазоне будут дома?*"
   ]
  },
  {
   "cell_type": "markdown",
   "id": "3c92d941",
   "metadata": {},
   "source": [
    "**Решение**"
   ]
  },
  {
   "cell_type": "markdown",
   "id": "61459ec8",
   "metadata": {},
   "source": [
    "*Формируем выборку по условиям: view равно 4 (4 - максимальное значение у вида, т.е. самый красивый) ИЛИ waterfront не равно нулю И condition равно 5 и yr_built больше или равно 1980:*"
   ]
  },
  {
   "cell_type": "code",
   "execution_count": 23,
   "id": "54077bc7",
   "metadata": {},
   "outputs": [],
   "source": [
    "houses = df[((df['waterfront'] == 1) | (df['view'] == 4)) & (df['condition'] == 5) & (df['yr_built'] >= 1980)]"
   ]
  },
  {
   "cell_type": "markdown",
   "id": "225e4078",
   "metadata": {},
   "source": [
    "*Определяем минимальную и максимальную цены в полученной выборке:*"
   ]
  },
  {
   "cell_type": "code",
   "execution_count": 24,
   "id": "4c4f87e1",
   "metadata": {},
   "outputs": [
    {
     "data": {
      "text/plain": [
       "75000.0"
      ]
     },
     "execution_count": 24,
     "metadata": {},
     "output_type": "execute_result"
    }
   ],
   "source": [
    "df['price'].min()"
   ]
  },
  {
   "cell_type": "code",
   "execution_count": 25,
   "id": "d7f3b581",
   "metadata": {},
   "outputs": [
    {
     "data": {
      "text/plain": [
       "7700000.0"
      ]
     },
     "execution_count": 25,
     "metadata": {},
     "output_type": "execute_result"
    }
   ],
   "source": [
    "df['price'].max()"
   ]
  },
  {
   "cell_type": "markdown",
   "id": "abe890e0",
   "metadata": {},
   "source": [
    "*По заданным условиям ценовой диапазон составляет от 75 000 до 7 700 000*"
   ]
  },
  {
   "cell_type": "markdown",
   "id": "df54af1e",
   "metadata": {},
   "source": [
    "### ------------------------------------------------------------------------------------"
   ]
  },
  {
   "cell_type": "markdown",
   "id": "1ec5db62",
   "metadata": {},
   "source": [
    "*5.3 Выберите дом клиенту  \n",
    "Клиент хочет дом без подвала, с двумя этажами, стоимостью до 150000. Какая оценка по состоянию у таких домов в среднем?*"
   ]
  },
  {
   "cell_type": "markdown",
   "id": "46869dc0",
   "metadata": {},
   "source": [
    "**Решение**"
   ]
  },
  {
   "cell_type": "markdown",
   "id": "799ed2bf",
   "metadata": {},
   "source": [
    "*Формируем выборку по условиям: sqft_basement = 0 (площадь подвала нулевая), floors (этажи) = 2, price (цена) меньше или равно 150 000:*"
   ]
  },
  {
   "cell_type": "code",
   "execution_count": 28,
   "id": "0a3fb853",
   "metadata": {},
   "outputs": [],
   "source": [
    "houses = df[(df['sqft_basement'] == 0) & (df['floors'] == 2) & (df['price'] <= 150000)]"
   ]
  },
  {
   "cell_type": "markdown",
   "id": "199967b4",
   "metadata": {},
   "source": [
    "*Находим среднюю оценку состояния:*"
   ]
  },
  {
   "cell_type": "code",
   "execution_count": 29,
   "id": "480d889e",
   "metadata": {},
   "outputs": [
    {
     "data": {
      "text/plain": [
       "3.0"
      ]
     },
     "execution_count": 29,
     "metadata": {},
     "output_type": "execute_result"
    }
   ],
   "source": [
    "houses['condition'].mean()"
   ]
  },
  {
   "cell_type": "markdown",
   "id": "73728339",
   "metadata": {},
   "source": [
    "*В среднем оценка состояния - 3, удовлетворительное состояние*"
   ]
  },
  {
   "cell_type": "code",
   "execution_count": null,
   "id": "4e6973c0",
   "metadata": {},
   "outputs": [],
   "source": []
  }
 ],
 "metadata": {
  "kernelspec": {
   "display_name": "Python 3 (ipykernel)",
   "language": "python",
   "name": "python3"
  },
  "language_info": {
   "codemirror_mode": {
    "name": "ipython",
    "version": 3
   },
   "file_extension": ".py",
   "mimetype": "text/x-python",
   "name": "python",
   "nbconvert_exporter": "python",
   "pygments_lexer": "ipython3",
   "version": "3.9.12"
  }
 },
 "nbformat": 4,
 "nbformat_minor": 5
}
